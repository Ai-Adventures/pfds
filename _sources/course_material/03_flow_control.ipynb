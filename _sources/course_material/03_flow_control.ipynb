{
  "nbformat": 4,
  "nbformat_minor": 0,
  "metadata": {
    "colab": {
      "name": "01_Flow_Control.ipynb",
      "provenance": [],
      "collapsed_sections": []
    },
    "kernelspec": {
      "name": "python3",
      "display_name": "Python 3"
    },
    "language_info": {
      "name": "python"
    }
  },
  "cells": [
    {
      "cell_type": "markdown",
      "source": [
        "# Flow Control\n",
        "\n",
        "So you know the basics of individual instructions and that a program is just a series of instructions. But the real strength of programming isn’t just running (or executing) one instruction after another. Based on how the expressions evaluate, the program can decide to skip instructions, repeat them, or choose one of several instructions to run. \n",
        "\n",
        "In fact, you almost never want your programs to start from the first line of code and simply execute every line, straight to the end. **Flow control** statements can decide which Python instructions to execute under which conditions.\n",
        "\n",
        "These flow control statements directly correspond to the symbols in a flowchart, so we’ll provide flowchart versions of the code discussed in this chapter. Figure below shows a flowchart for what to do if your alarm rings in the morning. Follow the path made by the arrows from *Start* to *End*.\n",
        "\n",
        "![](../images/000105.png)\n",
        "\n",
        "In a flowchart, there is usually more than one way to go from the start to the end. The same is true for lines of code in a computer program. Flowcharts represent these branching points with *diamonds*, while the other steps are represented with *rectangles*. The starting and ending steps are represented with *oval*.\n",
        "\n",
        "But before you learn about flow control statements, you first need to learn how to represent those *yes* and *no* options, and you need to understand how to write those branching points as Python code. To that end, let’s explore *Boolean values*, *comparison operators*, and *Boolean operators*.\n",
        "\n",
        "\n",
        "## Boolean Values\n",
        "\n",
        "While the integer, floating-point, and string data types have an unlimited number of possible values, the Boolean data type has only two values: `True` and `False`. When typed as Python code, the Boolean values `True` and `False` lack the quotes you place around strings, and they always start with a capital T or F, with the rest of the word in lowercase. \n",
        "\n",
        "Like any other value, *Boolean values* are used in expressions and can be stored in variables."
      ],
      "metadata": {
        "id": "QxuO_DbTJ0UK"
      }
    },
    {
      "cell_type": "code",
      "execution_count": 1,
      "metadata": {
        "colab": {
          "base_uri": "https://localhost:8080/"
        },
        "id": "WHTHE-WoEGQa",
        "outputId": "2845cfe8-c9f2-43fa-f86f-e54b48bc7a1f"
      },
      "outputs": [
        {
          "output_type": "execute_result",
          "data": {
            "text/plain": [
              "True"
            ]
          },
          "metadata": {},
          "execution_count": 1
        }
      ],
      "source": [
        "var = True \n",
        "var"
      ]
    },
    {
      "cell_type": "code",
      "source": [
        "new_var = False\n",
        "new_var"
      ],
      "metadata": {
        "colab": {
          "base_uri": "https://localhost:8080/"
        },
        "id": "GAT11wOxKrHA",
        "outputId": "e0d2b2d1-e0bb-4c0a-8a4e-287a31ae0885"
      },
      "execution_count": 3,
      "outputs": [
        {
          "output_type": "execute_result",
          "data": {
            "text/plain": [
              "False"
            ]
          },
          "metadata": {},
          "execution_count": 3
        }
      ]
    },
    {
      "cell_type": "markdown",
      "source": [
        "We have defined two variables `var` and `new_var` by assigning them values as `True` and `False` respectively. \n",
        "\n",
        "You can see `True` and `False` highlighted with different colors than the variable name, because there are some names/values defined in python they are called as keywords. You can check out other python keywords from following list. "
      ],
      "metadata": {
        "id": "lrPOnS9fKkI-"
      }
    },
    {
      "cell_type": "code",
      "source": [
        "help()"
      ],
      "metadata": {
        "colab": {
          "base_uri": "https://localhost:8080/"
        },
        "id": "UGDWqcg9Mnnf",
        "outputId": "e9e038d2-955b-407b-97c9-986f87670545"
      },
      "execution_count": 5,
      "outputs": [
        {
          "output_type": "stream",
          "name": "stdout",
          "text": [
            "\n",
            "Welcome to Python 3.7's help utility!\n",
            "\n",
            "If this is your first time using Python, you should definitely check out\n",
            "the tutorial on the Internet at https://docs.python.org/3.7/tutorial/.\n",
            "\n",
            "Enter the name of any module, keyword, or topic to get help on writing\n",
            "Python programs and using Python modules.  To quit this help utility and\n",
            "return to the interpreter, just type \"quit\".\n",
            "\n",
            "To get a list of available modules, keywords, symbols, or topics, type\n",
            "\"modules\", \"keywords\", \"symbols\", or \"topics\".  Each module also comes\n",
            "with a one-line summary of what it does; to list the modules whose name\n",
            "or summary contain a given string such as \"spam\", type \"modules spam\".\n",
            "\n",
            "help> keywords\n",
            "\n",
            "Here is a list of the Python keywords.  Enter any keyword to get more help.\n",
            "\n",
            "False               class               from                or\n",
            "None                continue            global              pass\n",
            "True                def                 if                  raise\n",
            "and                 del                 import              return\n",
            "as                  elif                in                  try\n",
            "assert              else                is                  while\n",
            "async               except              lambda              with\n",
            "await               finally             nonlocal            yield\n",
            "break               for                 not                 \n",
            "\n",
            "help> quit\n",
            "\n",
            "You are now leaving help and returning to the Python interpreter.\n",
            "If you want to ask for help on a particular object directly from the\n",
            "interpreter, you can type \"help(object)\".  Executing \"help('string')\"\n",
            "has the same effect as typing a particular string at the help> prompt.\n"
          ]
        }
      ]
    },
    {
      "cell_type": "code",
      "source": [
        "true"
      ],
      "metadata": {
        "colab": {
          "base_uri": "https://localhost:8080/",
          "height": 165
        },
        "id": "78GfAXcHKiW_",
        "outputId": "db128b23-1d5e-46c5-ea73-5fd600ad3e51"
      },
      "execution_count": 4,
      "outputs": [
        {
          "output_type": "error",
          "ename": "NameError",
          "evalue": "ignored",
          "traceback": [
            "\u001b[0;31m---------------------------------------------------------------------------\u001b[0m",
            "\u001b[0;31mNameError\u001b[0m                                 Traceback (most recent call last)",
            "\u001b[0;32m<ipython-input-4-724ba28f4a9a>\u001b[0m in \u001b[0;36m<module>\u001b[0;34m()\u001b[0m\n\u001b[0;32m----> 1\u001b[0;31m \u001b[0mtrue\u001b[0m\u001b[0;34m\u001b[0m\u001b[0;34m\u001b[0m\u001b[0m\n\u001b[0m",
            "\u001b[0;31mNameError\u001b[0m: name 'true' is not defined"
          ]
        }
      ]
    },
    {
      "cell_type": "markdown",
      "source": [
        "In th example above the error says that true is not defined beause we are not using proper case (i.e.- `True`). "
      ],
      "metadata": {
        "id": "iur3kTTmNaSj"
      }
    },
    {
      "cell_type": "code",
      "source": [
        "True = 583"
      ],
      "metadata": {
        "colab": {
          "base_uri": "https://localhost:8080/",
          "height": 130
        },
        "id": "52myVNFENNER",
        "outputId": "33cdd6b8-ea20-456c-99fc-846e81da7b3f"
      },
      "execution_count": 6,
      "outputs": [
        {
          "output_type": "error",
          "ename": "SyntaxError",
          "evalue": "ignored",
          "traceback": [
            "\u001b[0;36m  File \u001b[0;32m\"<ipython-input-6-23b1e5d93e92>\"\u001b[0;36m, line \u001b[0;32m1\u001b[0m\n\u001b[0;31m    True = 583\u001b[0m\n\u001b[0m              ^\u001b[0m\n\u001b[0;31mSyntaxError\u001b[0m\u001b[0;31m:\u001b[0m can't assign to keyword\n"
          ]
        }
      ]
    },
    {
      "cell_type": "markdown",
      "source": [
        "Anything from the list of keywords can't be used as variable name otherwise it gives you an error."
      ],
      "metadata": {
        "id": "3hc2LdvBNdTy"
      }
    },
    {
      "cell_type": "markdown",
      "source": [
        "## Comparison Operators\n",
        "\n",
        "\n",
        "Just like primary school mathematics we've learnt how to compare two values/numbers using operators like >, <, $\\neq$ , there are the same operators in python called as  comparison operators. It's just that the way we write the opeartor in python quite different. It is called syntax of any programming language. syntax means the rule we use to write code.\n",
        "\n",
        "Comparison operators compare two values and evaluate down to a single Boolean value. \n",
        "\n",
        "\n",
        "| Operation     | Description                          |\n",
        "|---------------|--------------------------------------| \n",
        "| ``a == b``    | ``a`` equal to ``b``                 | \n",
        "| ``a < b``     | ``a`` less than ``b``                | \n",
        "| ``a <= b``    | ``a`` less than or equal to ``b``    | \n",
        "| ``a != b``    | ``a`` not equal to ``b``             |\n",
        "| ``a > b``     | ``a`` greater than ``b``             |\n",
        "| ``a >= b``    | ``a`` greater than or equal to ``b`` |\n",
        "\n",
        "These operators evaluate to `True` or `False` depending on the values you give them. \n",
        "\n",
        "### Difference between `==` & `=` Operator\n",
        "\n",
        "You might have noticed that the `==` operator (equal to) has two equal signs, while the `=` operator (assignment) has just one equal sign. It’s easy to confuse these two operators with each other. \n",
        "\n",
        "Just remember these points: The `==` operator (equal to) asks whether two values are the same as each other. The `=` operator (assignment) puts the value on the right into the variable on the left.\n",
        "\n",
        "To help remember which is which, notice that the `==` operator (equal to) consists of two characters, just like the `!=` operator (not equal to) consists of two characters.\n",
        " \n",
        "You’ll often use comparison operators to compare a variable’s value to some other value. We’ll see more examples of this later when you learn about flow control statements.\n",
        "\n",
        "\n",
        "Let's try out all the comparison operator one-by-one in the following code cell."
      ],
      "metadata": {
        "id": "Kdo1bx_nLVgv"
      }
    },
    {
      "cell_type": "code",
      "source": [
        "a = 6\n",
        "b = 4"
      ],
      "metadata": {
        "id": "lV1IEvgQPXyy"
      },
      "execution_count": 7,
      "outputs": []
    },
    {
      "cell_type": "code",
      "source": [
        "print(a==b)\n",
        "print(a!=b)\n",
        "print(a>b)\n",
        "print(a>=b)\n",
        "print(a<b)\n",
        "print(a<=b)"
      ],
      "metadata": {
        "colab": {
          "base_uri": "https://localhost:8080/"
        },
        "id": "E861W3nUPXoa",
        "outputId": "52616f1d-31a2-4a80-a865-2f6c02b87a97"
      },
      "execution_count": 12,
      "outputs": [
        {
          "output_type": "stream",
          "name": "stdout",
          "text": [
            "False\n",
            "True\n",
            "True\n",
            "True\n",
            "False\n",
            "False\n"
          ]
        }
      ]
    },
    {
      "cell_type": "markdown",
      "source": [
        "```{admonition} Note\n",
        "\n",
        "In most of the programming languages the `Boolean values` have corresponding `integers`(number) values assigned to it. The corresponding value of True  is 1 and that of False is 0. That means you can say `True` is equal to `1`  and `False` is equal to `0`\n",
        "```\n",
        "\n"
      ],
      "metadata": {
        "id": "pyXyfK-zLVQS"
      }
    },
    {
      "cell_type": "code",
      "source": [
        "print(True == 1)\n",
        "print(False == 0)"
      ],
      "metadata": {
        "colab": {
          "base_uri": "https://localhost:8080/"
        },
        "id": "Jq-lST_rKoQM",
        "outputId": "37b42018-066e-4c9c-a19e-b932ecb28a15"
      },
      "execution_count": 15,
      "outputs": [
        {
          "output_type": "stream",
          "name": "stdout",
          "text": [
            "True\n",
            "True\n"
          ]
        }
      ]
    },
    {
      "cell_type": "markdown",
      "source": [
        "By looking at the above examples you know we can perform arithmatical operations using these boolean values, such as following:"
      ],
      "metadata": {
        "id": "cf12-IfrnnmQ"
      }
    },
    {
      "cell_type": "code",
      "source": [
        "print('The value of a is', a)  \n",
        "# alternate way : print('The value of a is ' + str(a))\n",
        "print('The value of b is', b)\n",
        "\n",
        "print('Integer value of True is ', int(True))\n",
        "print('Integer value of False is ', int(False))\n",
        "print('Boolean value of 1 is ', bool(1))\n",
        "print('Boolean value of 0 is ', bool(0))\n",
        "print('Boolean value of a is ', bool(a))\n",
        "print('Boolean value of b is ', bool(b))\n",
        "\n",
        "print(a+True)\n",
        "print(b*False)\n",
        "print(a/True)\n",
        "print(b//False)"
      ],
      "metadata": {
        "colab": {
          "base_uri": "https://localhost:8080/",
          "height": 391
        },
        "id": "3kptcVMjnc_n",
        "outputId": "10dcf97f-d89f-4e28-daae-816d62ac7e5f"
      },
      "execution_count": 24,
      "outputs": [
        {
          "output_type": "stream",
          "name": "stdout",
          "text": [
            "The value of a is 6\n",
            "The value of b is 4\n",
            "Integer value of True is  1\n",
            "Integer value of False is  0\n",
            "Boolean value of 1 is  True\n",
            "Boolean value of 0 is  False\n",
            "Boolean value of a is  True\n",
            "Boolean value of b is  True\n",
            "7\n",
            "0\n",
            "6.0\n"
          ]
        },
        {
          "output_type": "error",
          "ename": "ZeroDivisionError",
          "evalue": "ignored",
          "traceback": [
            "\u001b[0;31m---------------------------------------------------------------------------\u001b[0m",
            "\u001b[0;31mZeroDivisionError\u001b[0m                         Traceback (most recent call last)",
            "\u001b[0;32m<ipython-input-24-19797ebfb039>\u001b[0m in \u001b[0;36m<module>\u001b[0;34m()\u001b[0m\n\u001b[1;32m     13\u001b[0m \u001b[0mprint\u001b[0m\u001b[0;34m(\u001b[0m\u001b[0mb\u001b[0m\u001b[0;34m*\u001b[0m\u001b[0;32mFalse\u001b[0m\u001b[0;34m)\u001b[0m\u001b[0;34m\u001b[0m\u001b[0;34m\u001b[0m\u001b[0m\n\u001b[1;32m     14\u001b[0m \u001b[0mprint\u001b[0m\u001b[0;34m(\u001b[0m\u001b[0ma\u001b[0m\u001b[0;34m/\u001b[0m\u001b[0;32mTrue\u001b[0m\u001b[0;34m)\u001b[0m\u001b[0;34m\u001b[0m\u001b[0;34m\u001b[0m\u001b[0m\n\u001b[0;32m---> 15\u001b[0;31m \u001b[0mprint\u001b[0m\u001b[0;34m(\u001b[0m\u001b[0mb\u001b[0m\u001b[0;34m//\u001b[0m\u001b[0;32mFalse\u001b[0m\u001b[0;34m)\u001b[0m\u001b[0;34m\u001b[0m\u001b[0;34m\u001b[0m\u001b[0m\n\u001b[0m",
            "\u001b[0;31mZeroDivisionError\u001b[0m: integer division or modulo by zero"
          ]
        }
      ]
    },
    {
      "cell_type": "markdown",
      "source": [
        "As you can see we can use `boolean values` as integer as they are interconvertible using `int()` and `bool()`\n",
        "\n",
        "\n",
        "```{admonition} Question \n",
        "Try it out for float values.\n",
        "```\n",
        "\n",
        "\n",
        "## Boolean Operators\n",
        "The three Boolean operators (`and`, `or`, and `not`) are used to compare Boolean values. Like comparison operators, they also evaluate these expressions down to a Boolean value. Let’s explore these operators in detail, starting with the `and` operator. \n",
        "\n",
        "### `and` operator\n",
        "In the truth table given below, **T** means `True`  and **F** means `False`. `and` operator evaluates to `True` if both of the two Boolean values are `True`. If either of them is `False`, it evaluates to `False`.\n",
        "\n",
        "| A | B | A and B | \n",
        "|---|---|---------|\n",
        "| F | F | F       |\n",
        "| F | T | F       |\n",
        "| T | F | F       |\n",
        "| T | T | T       |\n",
        "\n",
        "Play around with *and* operator into your Jupyter Notebook's cell and check out the output."
      ],
      "metadata": {
        "id": "x1Uq4DaIqpXh"
      }
    },
    {
      "cell_type": "code",
      "source": [
        "print(False and False)\n",
        "print(False and True)\n",
        "print(True and False)\n",
        "print(True and True)"
      ],
      "metadata": {
        "colab": {
          "base_uri": "https://localhost:8080/"
        },
        "id": "KFgTTKzInfBw",
        "outputId": "97bd4c2c-c125-4177-af5b-fc49f4b5d4d3"
      },
      "execution_count": 27,
      "outputs": [
        {
          "output_type": "stream",
          "name": "stdout",
          "text": [
            "False\n",
            "False\n",
            "False\n",
            "True\n"
          ]
        }
      ]
    },
    {
      "cell_type": "markdown",
      "source": [
        "### `or` operator\n",
        "\n",
        "`or` operator evaluates to `True` if either of the two Boolean values is `True`. If both are `False`, it evaluates to `False`.\n",
        "\n",
        "| A | B | A or B | \n",
        "|---|---|--------|\n",
        "| F | F | F      |\n",
        "| F | T | T      |\n",
        "| T | F | T      |\n",
        "| T | T | T      |"
      ],
      "metadata": {
        "id": "mAjcHkUTuZyl"
      }
    },
    {
      "cell_type": "code",
      "source": [
        "print(False or False)\n",
        "print(False or True)\n",
        "print(True or False)\n",
        "print(True or True)"
      ],
      "metadata": {
        "colab": {
          "base_uri": "https://localhost:8080/"
        },
        "id": "HhasFutEuNTT",
        "outputId": "054127a3-8063-4d2d-9fc1-2dee484b5d68"
      },
      "execution_count": 28,
      "outputs": [
        {
          "output_type": "stream",
          "name": "stdout",
          "text": [
            "False\n",
            "True\n",
            "True\n",
            "True\n"
          ]
        }
      ]
    },
    {
      "cell_type": "markdown",
      "source": [
        "The `and` & `or` operators always take two Boolean values (or expressions), so they’re considered **binary operators**. \n",
        "\n",
        "\n",
        "### `not` operator\n",
        "\n",
        "Unlike `and` and `or`, the `not` operator operates on only one Boolean value (or expression). The `not` operator simply evaluates to the opposite Boolean value i.e. it evaluates an expression to `True` if the Boolean values is `False`and vice versa.\n",
        "\n",
        "| A | not A |\n",
        "|---|---|\n",
        "| F | T |\n",
        "| T | F |"
      ],
      "metadata": {
        "id": "zx4hbhVougMW"
      }
    },
    {
      "cell_type": "code",
      "source": [
        "print(not False)\n",
        "print(not True)"
      ],
      "metadata": {
        "colab": {
          "base_uri": "https://localhost:8080/"
        },
        "id": "JCVMRtItuOk_",
        "outputId": "c4f4c4a0-35a2-4eac-dd1c-681934a3bd10"
      },
      "execution_count": 29,
      "outputs": [
        {
          "output_type": "stream",
          "name": "stdout",
          "text": [
            "True\n",
            "False\n"
          ]
        }
      ]
    },
    {
      "cell_type": "markdown",
      "source": [
        "Much like using double negatives in speech and writing, you can nest `not` operators, though there’s never not no reason to do this in real programs."
      ],
      "metadata": {
        "id": "iG8etniNun0u"
      }
    },
    {
      "cell_type": "code",
      "source": [
        "print(not not not not True)"
      ],
      "metadata": {
        "colab": {
          "base_uri": "https://localhost:8080/"
        },
        "id": "5uMzHZPoumT7",
        "outputId": "c34d5f09-14eb-4a29-c561-aeddfe879497"
      },
      "execution_count": 4,
      "outputs": [
        {
          "output_type": "stream",
          "name": "stdout",
          "text": [
            "True\n"
          ]
        }
      ]
    },
    {
      "cell_type": "markdown",
      "source": [
        "## Boolean and Comparison Operators\n",
        "Since the comparison operators evaluate to Boolean values, you can use them in expressions with the Boolean operators.\n",
        "\n",
        "Recall that the `and`, `or`, and `not` operators are called *Boolean operators* because they always operate on the Boolean values `True` and `False`. While expressions like `1 < 2` aren’t Boolean values, they are expressions that evaluate down to Boolean values. Try using some Boolean expressions that use comparison operators in your computer."
      ],
      "metadata": {
        "id": "-iD5tAgjsq0I"
      }
    },
    {
      "cell_type": "code",
      "source": [
        "print((1 < 2) and (3 < 4))\n",
        "print((4 < 5) and (7 < 6))\n",
        "print((1 == 2) or (2 == 2))"
      ],
      "metadata": {
        "colab": {
          "base_uri": "https://localhost:8080/"
        },
        "id": "0pn1_s0Qupmm",
        "outputId": "e537fc82-cdc7-4b2d-ee64-8e5d38da6f80"
      },
      "execution_count": 2,
      "outputs": [
        {
          "output_type": "stream",
          "name": "stdout",
          "text": [
            "True\n",
            "False\n",
            "True\n"
          ]
        }
      ]
    },
    {
      "cell_type": "markdown",
      "source": [
        "The computer will evaluate the left expression first, and then it will evaluate the right expression. When it knows the Boolean value for each, it will then evaluate the whole expression down to one Boolean value. You can think of the computer’s evaluation process for `(1 < 2) and (3 < 4)` as shown in figure below\n",
        "\n",
        "![](../images/000023.png)"
      ],
      "metadata": {
        "id": "bXsFhITztFgQ"
      }
    },
    {
      "cell_type": "markdown",
      "source": [
        "You can also use multiple Boolean operators in an expression, along with the comparison operators."
      ],
      "metadata": {
        "id": "SHgXP--5tHvc"
      }
    },
    {
      "cell_type": "code",
      "source": [
        "print(((2 + 2) == 4) and (not (2 + 2 == 5)) and ((2 * 2) == (2 + 2)))"
      ],
      "metadata": {
        "colab": {
          "base_uri": "https://localhost:8080/"
        },
        "id": "OAMgQx-msyUa",
        "outputId": "4885f3b8-562d-44bc-fffd-c8cefbee3700"
      },
      "execution_count": 3,
      "outputs": [
        {
          "output_type": "stream",
          "name": "stdout",
          "text": [
            "True\n"
          ]
        }
      ]
    },
    {
      "cell_type": "markdown",
      "source": [
        "\n",
        "\n",
        "\n",
        "## Elements of Flow Control\n",
        "\n",
        "Flow control statements often start with a part called the **condition**, and all are followed by a *block of code* called the **clause**. Before you learn about Python’s specific flow control statements, let's cover what a condition and a block are.\n",
        "\n",
        "### Conditions\n",
        "\n",
        "The Boolean expressions you’ve seen so far could all be considered conditions, which are the same thing as expressions; condition is just a more specific name in the context of flow control statements. Conditions always evaluate down to a Boolean value, True or False. A flow control statement decides what to do based on whether its condition is True or False, and almost every flow control statement uses a condition.\n",
        "\n",
        "### Blocks of Code\n",
        "\n",
        "Lines of Python code can be grouped together in one or more blocks. You can tell when a block begins. Indentation means 4 spaces or 1 Tab.\n",
        "\n",
        "There are three rules for blocks.\n",
        "\n",
        "- Blocks begin when the indentation increases.\n",
        "\n",
        "- Blocks can contain other blocks.\n",
        "\n",
        "- Blocks end when the indentation decreases to zero or to a containing block's indentation.\n",
        "\n",
        "Blocks are easier to understand by looking at some indentation. You might be seeing it on regular basis in YouTube Comments and Instagram comments and their replies. It is called indentation.\n",
        "\n",
        "![](../images/instagram_comments.jpg)\n",
        "\n",
        "## Flow Control Statements\n",
        "\n",
        "Now, let’s explore the most important piece of flow control: the *statements* themselves. The **statements** represent the diamonds you saw in the flowchart above, and they are the actual decisions your programs will make.\n",
        "\n",
        "### `if` statement\n",
        "\n",
        "The most common type of flow control statement is the `if` statement. An `if` statement’s clause (that is, the block following the `if` statement) will execute if the statement’s condition is `True`. The clause is skipped if the condition is `False`.\n",
        "\n",
        "In plain English, an `if` statement could be read as, “If this condition is true, execute the code in the clause.” In Python, an `if` statement consists of the following:\n",
        "\n",
        "- The `if` keyword\n",
        "\n",
        "- A condition (that is, an expression that evaluates to `True` or `False`)\n",
        "\n",
        "- A colon(**:**)\n",
        "\n",
        "- Starting on the next line, an indented block of code (called the `if` clause)\n",
        "\n",
        "For example, let’s say you have some code that checks which grade is scored by a person. (Pretend name was assigned some value earlier.)\n",
        "\n",
        "```{code-block} python\n",
        "grade = 93\n",
        "\n",
        "if grade >= 90:\n",
        "    print('Grade A')    \n",
        "```\n",
        "\n",
        "All flow control statements end with a colon and are followed by a new block of code (the clause). This `if` statement’s clause is the block with `print('Grade A')`. The flowchart of this code would look like.\n",
        "\n",
        "![](../images/000019.png)\n",
        "\n",
        "\n",
        "### `else` statement\n",
        "\n",
        "An `if` clause can optionally be followed by an `else` statement. The `else` clause is executed only when the `if` statement’s condition is `False`. In plain English, an `else` statement could be read as, “If this condition is `True`, execute this code. Or else, execute that code.” An `else` statement *doesn’t have a condition*, and in code, an `else` statement always consists of the following:\n",
        "\n",
        "- The `else` keyword\n",
        "\n",
        "- A colon(**:**)\n",
        "\n",
        "- Starting on the next line, an indented block of code (called the `else` clause)\n",
        "\n",
        "Returning to above example, let’s look at some code that uses an `else` statement to check if the scored grade is **Grade A** or not.\n",
        "\n",
        "```{code-block} python\n",
        "grade = 88\n",
        "\n",
        "if grade>=90:\n",
        "  print('Grade A')\n",
        "else:\n",
        "  print('Not Grade A')\n",
        "```         \n",
        "![](../images/000106.png)\n",
        "\n",
        "\n",
        "### `elif` statement\n",
        "\n",
        "While only one of the `if` or `else` clauses will execute, you may have a case where you want one of many possible clauses to execute. The `elif` statement is an “else if” statement that always follows an `if` or another `elif` statement. It provides another condition that is checked only if all of the previous conditions were `False`. In code, an `elif` statement always consists of the following:\n",
        "\n",
        "- The `elif` keyword\n",
        "\n",
        "- A condition (that is, an expression that evaluates to `True` or `False`)\n",
        "\n",
        "- A colon(**:**)\n",
        "\n",
        "- Starting on the next line, an indented block of code (called the `elif` clause)\n",
        "\n",
        "Let’s add an `elif` to our grade checker to see this statement in action.\n",
        "\n",
        "```{code-block} python\n",
        "grade = 89\n",
        "\n",
        "if grade>=90:\n",
        "  print('Grade A')\n",
        "elif grade>=80:\n",
        "  print('Grade B')\n",
        "```\n",
        "\n",
        "This time, you check if the `grade` is more than or equal to `90` means that student got **Grade A** , and the program will tell something different for different condition. You can see the flowchart for this in the figure below.\n",
        "\n",
        "![](../images/000107.png)\n",
        "\n",
        "The `elif` clause executes if `grade>=80` is `True` and `grade>=90` is `False`. However, if both of the conditions are `False`, then both of the clauses are skipped. It is not guaranteed that at least one of the clauses will be executed. \n",
        "\n",
        "When there is a chain of `elif` statements, only one or none of the clauses will be executed. Once one of the statements conditions is found to be `True`, the rest of the `elif` clauses are automatically skipped."
      ],
      "metadata": {
        "id": "PThV5IgJtg7H"
      }
    },
    {
      "source": [
        "```{admonition} Order of precedence\n",
        "\n",
        "The Boolean operators have an order of operations just like the math operators do. After all *math* and *comparison operators* are evaluated, Python evaluates the `not` operators first, then the `and` operators, and then the `or` operators.\n",
        "\n",
        "```"
      ],
      "cell_type": "markdown",
      "metadata": {}
    },
    {
      "cell_type": "markdown",
      "source": [
        "Lets add two more `elif` statements to check grade of a student with different answers based on their grade.\n",
        "\n",
        "```{code-block} python\n",
        "grade = 73\n",
        "\n",
        "if grade>=90:\n",
        "    print('Grade A')\n",
        "elif grade>=80:\n",
        "    print('Grade B')\n",
        "elif grade>=70:\n",
        "    print('Grade C')\n",
        "elif grade>=60:\n",
        "    print('Grade D')\n",
        "\n",
        "```    \n",
        "\n",
        "Figure shows the flowchart for this.    \n",
        "\n",
        "![](../images/000088.png)\n",
        "\n",
        "\n",
        "The **order of the `elif` statements does matter**, however. Let’s rearrange them to introduce a bug. Remember that the rest of the `elif` clauses are automatically skipped once a `True` condition has been found, so if you swap around some of the clauses in code above, you run into a problem. Change the code to look like the following.\n",
        "\n",
        "```{code-block} python\n",
        "grade = 74\n",
        "\n",
        "if grade>=90:\n",
        "    print('Grade A')\n",
        "elif grade>=80:\n",
        "    print('Grade B')\n",
        "elif grade>=60:\n",
        "    print('Grade D')    \n",
        "elif grade>=70:\n",
        "    print('Grade C')\n",
        "```  \n",
        "Say the `grade` variable contains the value `74` before this code is executed. You might expect the code to print the string `'Grade C'`. However, because the `grade>=60` condition is `True` (after all, 74 is greater than 60), the string `'Grade D'` is printed, and the rest of the `elif` statements are automatically skipped. Remember, at most only one of the clauses will be executed, and for `elif` statements, the order matters!\n",
        "\n",
        "Notice how the diamonds for `grade>=60` and `grade>=70` are swapped.\n",
        "\n",
        "![](../images/000089.png)\n",
        "\n",
        "\n",
        "Optionally, you can have an `else` statement after the last `elif` statement. In that case, it is guaranteed that at least one (and only one) of the clauses will be executed. If the conditions in every `if` and `elif` statement are `False`, then the `else` clause is executed. For example, \n",
        "\n",
        "```{code-block} python\n",
        "grade = 74\n",
        "\n",
        "if grade>=90:\n",
        "    print('Grade A')\n",
        "elif grade>=80:\n",
        "    print('Grade B')\n",
        "else:\n",
        "    print('Never give up')\n",
        "```\n",
        "\n",
        "\n",
        "In plain English, this type of flow control structure would be, “If the first condition is true, do this. Else, if the second condition is true, do that. Otherwise, do something else.” \n",
        "\n",
        "When you use all three of these statements together, remember these rules about how to order them to avoid bugs. First, there is always exactly one `if` statement. Any `elif` statements you need should follow the `if` statement. Second, if you want to be sure that at least one clause is executed, close the structure with an `else` statement."
      ],
      "metadata": {
        "id": "88uPODYvQqos"
      }
    },
    {
      "cell_type": "markdown",
      "source": [
        "## Nested if \n",
        "\n",
        "Always remeber this word nested in programming there are many things in prorgramming where \"nested\" word is used. So nested means one inside the other, now you might be thinking what will be inside what? As the name of this topic says `nested if` this means there will be one or more `if` statements inside one `if` statement as follows: \n",
        "\n",
        "```{code-block} python\n",
        "x = 7\n",
        "if x < 10:\n",
        "    print('Less than 10')\n",
        "    if x > 5:\n",
        "        print('Greater than 5')\n",
        "    else:\n",
        "        print('Less than 5')\n",
        "```\n",
        "\n",
        "The first block of code starts at the line `print('Less than 10')` and contains all the lines after it. Inside this block is another block, which has only a single line in it: `print('Greater than 5')`. The third and last block is also one line long: `print('Less than 5')`."
      ],
      "metadata": {
        "id": "1YF-TXCTkjKy"
      }
    },
    {
      "cell_type": "code",
      "source": [
        "x = 7\n",
        "if x < 10:\n",
        "    print('Less than 10')\n",
        "    if x > 5:\n",
        "        print('Greater than 5')\n",
        "    else:\n",
        "        print('Less than 5')"
      ],
      "metadata": {
        "colab": {
          "base_uri": "https://localhost:8080/"
        },
        "id": "4iclHxw-t214",
        "outputId": "c23a1534-e7d8-4a2b-99b6-8c26c55d3cdf"
      },
      "execution_count": 5,
      "outputs": [
        {
          "output_type": "stream",
          "name": "stdout",
          "text": [
            "Less than 10\n",
            "Greater than 5\n"
          ]
        }
      ]
    },
    {
      "cell_type": "markdown",
      "source": [
        "If you don’t follow the indentation (rules for blocks) you might get an error as follows:"
      ],
      "metadata": {
        "id": "fu13wXYflWZg"
      }
    },
    {
      "cell_type": "code",
      "source": [
        "x = 7\n",
        "if x < 10:\n",
        "print('Less than 10')\n",
        "    if x > 5:\n",
        "        print('Greater than 5')\n",
        "    else:\n",
        "        print('Less than 5')"
      ],
      "metadata": {
        "colab": {
          "base_uri": "https://localhost:8080/",
          "height": 130
        },
        "id": "L62z1IlJtQeX",
        "outputId": "2737c693-62a0-4a01-b02f-e69c16d5f21f"
      },
      "execution_count": 6,
      "outputs": [
        {
          "output_type": "error",
          "ename": "IndentationError",
          "evalue": "ignored",
          "traceback": [
            "\u001b[0;36m  File \u001b[0;32m\"<ipython-input-6-e8f12391e9fb>\"\u001b[0;36m, line \u001b[0;32m3\u001b[0m\n\u001b[0;31m    print('Less than 10')\u001b[0m\n\u001b[0m        ^\u001b[0m\n\u001b[0;31mIndentationError\u001b[0m\u001b[0;31m:\u001b[0m expected an indented block\n"
          ]
        }
      ]
    },
    {
      "cell_type": "markdown",
      "source": [
        "The error message tells us that the line 3 (i.e - `print('Less than 10')`) has not used proper indentation.\n",
        "\n",
        "\n",
        "## Conclusion\n",
        "\n",
        "By using expressions that evaluate to `True` or `False` (also called conditions), you can write programs that make decisions on what code to execute and what code to skip.\n",
        "\n",
        "These flow control statements will let you write much more intelligent programs.\n",
        "\n",
        "### Questionaire\n",
        "\n",
        "1. List down all the Boolean Operator & their truth tables?\n",
        "2. As there is precedence of math operators, what is the order of the Boolean Operators?\n",
        "3. Does `else` statement have conditions to check? \n",
        "3. What is the minimum and maximum number of `else` statement and `elif` statement that can be used in program?\n",
        "4. Can we use `elif` before `if` statement?\n",
        "\n",
        "### Exercise\n",
        "\n",
        "Try to solve the questions given in this [link](https://github.com/PranavUikey/Python_Extra/blob/main/Extra_questions/01_Flow%20Control.ipynb). And if you need any help understanding the questions feel free to seek for the mentor."
      ],
      "metadata": {
        "id": "W3pSyHtqlaSE"
      }
    }
  ]
}