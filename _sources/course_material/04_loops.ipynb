{
  "nbformat": 4,
  "nbformat_minor": 0,
  "metadata": {
    "colab": {
      "name": "04_Loops.ipynb",
      "provenance": [],
      "collapsed_sections": []
    },
    "kernelspec": {
      "name": "python3",
      "display_name": "Python 3"
    },
    "language_info": {
      "name": "python"
    }
  },
  "cells": [
    {
      "cell_type": "markdown",
      "source": [
        "# Loops\n",
        "\n",
        "Imagine you are listening your favourite song on loop. What does it mean? It means that the song is repeated until you stop it. The loop in python works the same way. So let's dive right into it.\n",
        "\n",
        "Python consists of 2 loops: \n",
        "  - `while` Loop\n",
        "  - `for`  Loop\n",
        "\n",
        "So loop should have following steps:\n",
        "  1. Initialization (Start point)\n",
        "  2. Condition (End point)\n",
        "  3. Increment/Decrement (Update)\n",
        "\n",
        "Let's understand it with an `if` statement example. \n",
        "```{code-block} python\n",
        "  i = 0 # initialization\n",
        "  if (i <= 5): # condition\n",
        "    print(i)\n",
        "    i=i+1 # increment\n",
        "\n",
        "  >>> 0\n",
        "```\n",
        "\n",
        "In above code we are using `if` statement which is checking the condition either i is less than or equal to 5, if that condition comes out to be `True` then it will print the value of `i` and increment it by 1. And that's it the execution will end there.\n",
        "\n",
        "Now if we just replace the `if` keyword with `while` it will automatically become a `while` loop.\n",
        "\n",
        "```{code-block} python\n",
        "  i = 0 # initialization\n",
        "  while (i <= 5): # condition\n",
        "    print(i)\n",
        "    i=i+1 # increment\n",
        "\n",
        "  >>> 0\n",
        "      1\n",
        "      2\n",
        "      4\n",
        "      5\n",
        "```\n",
        "\n",
        "\n",
        "You can see that a `while` statement looks similar to an `if` statement. The difference is in how they behave. At the end of an `if` clause, the program execution continues after the `if` statement. But at the end of a `while` clause, the program execution jumps back to the start of the `while` statement. The `while` clause is often called the *while loop* or just the loop.\n",
        "\n",
        "\n",
        "```{note}\n",
        "\n",
        "If you forget any of the steps in while loop it will stuck in `infinite` loop, which we will cover later in this chapter.\n",
        "```"
      ],
      "metadata": {
        "id": "c3vwDsYmKfTR"
      }
    },
    {
      "cell_type": "markdown",
      "source": [
        "## `while` loop\n",
        "\n",
        "You can make a block of code execute over and over again with a `while` statement. The code in a `while` clause will be executed as long as the `while` statement’s condition is `True`. In code, a `while` statement always consists of the following:\n",
        "\n",
        "- The `while` keyword\n",
        "\n",
        "- A condition (that is, an expression that evaluates to `True` or `False`)\n",
        "\n",
        "- A colon(**:**)\n",
        "\n",
        "- Starting on the next line, an indented block of code (called the `while` clause)\n",
        "\n",
        "\n",
        "In the `while` loop, the condition is always checked at the start of each iteration (that is, each time the loop is executed). If the condition is `True`, then the clause is executed, and afterward, the condition is checked again. The first time the condition is found to be `False`, the `while` clause is skipped."
      ],
      "metadata": {
        "id": "Tj99wMlJkgu8"
      }
    },
    {
      "cell_type": "markdown",
      "source": [
        "Let's take an example of while loop which will print all numbers divisible by 5 starting from 10 to 20."
      ],
      "metadata": {
        "id": "yp4aveyRlJoo"
      }
    },
    {
      "cell_type": "code",
      "source": [
        "x = 10          # initialize `x` at 10 because our starting point is 10\n",
        "while  x <= 20: # condition to check till `x` becomes 20\n",
        "  if x % 5 ==0: # condition to check the number divisible by 5.\n",
        "    print(x)\n",
        "  x=x+1         # increment `x` by 1 (The short version of writing the same thing is x+=1) )\n"
      ],
      "metadata": {
        "colab": {
          "base_uri": "https://localhost:8080/"
        },
        "id": "dL3K8OLalIQ6",
        "outputId": "b0d936a9-acd8-4286-81c9-a9cbf45b1827"
      },
      "execution_count": 1,
      "outputs": [
        {
          "output_type": "stream",
          "name": "stdout",
          "text": [
            "10\n",
            "15\n",
            "20\n"
          ]
        }
      ]
    },
    {
      "cell_type": "markdown",
      "source": [
        "We can do the same thing in reverse order by changing the values like following code:"
      ],
      "metadata": {
        "id": "QnnMFiencBha"
      }
    },
    {
      "cell_type": "code",
      "source": [
        "x = 20 # initialization\n",
        "while x >= 10: # condition\n",
        "  if x % 5 == 0:\n",
        "    print(x)\n",
        "  \n",
        "  x-=1 # short version of x = x - 1 \n"
      ],
      "metadata": {
        "colab": {
          "base_uri": "https://localhost:8080/"
        },
        "id": "dbKJnoO0cBPn",
        "outputId": "bd815214-3ddf-4a28-a0a8-605d118bed2e"
      },
      "execution_count": 3,
      "outputs": [
        {
          "output_type": "stream",
          "name": "stdout",
          "text": [
            "20\n",
            "15\n",
            "10\n"
          ]
        }
      ]
    },
    {
      "cell_type": "markdown",
      "source": [
        "```{admonition} Question \n",
        "Now try out the same example for even numbers without `if` statement (in ascending and descending order). \n",
        "```"
      ],
      "metadata": {
        "id": "W9MO6KW3mIRG"
      }
    },
    {
      "cell_type": "markdown",
      "source": [
        "### An annoying `while` loop\n",
        "\n",
        "So far so good, Now let's see where something which makes `while` loop special i.e.- the condition. You should use while loop only when the condition is clear to you or the condition is explicitly mentioned. For example:\n",
        "If you have to keep asking for name to user until `'your name'` is provided, shown in code below."
      ],
      "metadata": {
        "id": "aI9ZjxAK2P4R"
      }
    },
    {
      "cell_type": "code",
      "execution_count": 1,
      "metadata": {
        "colab": {
          "base_uri": "https://localhost:8080/"
        },
        "id": "7PsnlCx-KZJo",
        "outputId": "7c31fc3f-c6fd-49bc-aea1-d895ce2f915b"
      },
      "outputs": [
        {
          "output_type": "stream",
          "name": "stdout",
          "text": [
            "Please type your name\n",
            "Pranav\n",
            "Please type your name\n",
            "Vivek\n",
            "Please type your name\n",
            "aiadventures\n",
            "Please type your name\n",
            "your name\n",
            "thank you!\n"
          ]
        }
      ],
      "source": [
        "name = '' \n",
        "while name != 'your name':\n",
        "    print('Please type your name')\n",
        "    name = input() \n",
        "print('thank you!') "
      ]
    },
    {
      "cell_type": "markdown",
      "source": [
        "First, the program sets the `name` variable to an empty string. This is so that the `name != 'your name'` condition will evaluate to `True` and the program execution will enter the `while` loop’s clause.\n",
        "\n",
        "The code inside this clause asks the user to type their name, which is assigned to the `name` variable. Since this is the last line of the block, the execution moves back to the start of the while loop and reevaluates the condition. If the value in `name` is not equal to the string `'your name'`, then the condition is `True`, and the execution enters the `while` clause again.\n",
        "\n",
        "But once the user types `'your name'`, the condition of the `while` loop will evaluate to `False`. Instead of  re-entering the `while` loop’s clause, the program execution will skip past it and continues running the rest of the program.\n",
        "\n",
        "If you never enter `your name`, then the `while` loop’s condition will never be `False`, and the program will just keep asking forever. Here, the `input()` call lets the user enter the right string to make the program move on. In other programs, the condition might never actually change, and that can be a problem.\n",
        "\n",
        "\n",
        "So that was all about `while` loop. Now we will go ahead and learn `for` loop."
      ],
      "metadata": {
        "id": "NM-oX0QpZ7MG"
      }
    },
    {
      "cell_type": "markdown",
      "source": [
        "The `while` loop keeps looping while its condition is `True` (which is the reason for its name), but what if you want to execute a block of code only a certain number of times? You can do this with a `for` loop statement and the `range()` function. Hence it's important to understand `range()` function first.\n",
        "\n",
        "## `range()` function\n",
        "\n",
        "Some functions in python can be called with multiple arguments separated by a comma, and `range()` is one of them. `range()` function creates a sequence of integers, for that we have to mention following things: \n",
        "\n",
        "  - **start** - The number from where sequence will start, its just like initialization from `while` loop. \n",
        "\n",
        "  - **stop** - The number where the sequence will end, just like the condition of `while` loop to stop the loop.\n",
        "\n",
        "  - **step**-  The number which tells how much differene will be between next valud of the sequence, increment/decrement from `while` loop.\n",
        "    \n",
        "\n",
        "So if you remember we have mentioned in the start of the lesson those 3 properties of loops being used by `for` loop but in quite different way with the help of `range()` function.\n",
        "\n",
        "The general syntax of `range()` function is :`range(start, stop, step)`\n",
        "\n",
        "\n",
        "\n",
        "\n"
      ],
      "metadata": {
        "id": "8grlF-F5c9q5"
      }
    },
    {
      "cell_type": "code",
      "source": [
        "range(1, 5, 1)"
      ],
      "metadata": {
        "colab": {
          "base_uri": "https://localhost:8080/"
        },
        "id": "cDKahmvzZxcL",
        "outputId": "3f8eeb85-4568-4364-8eb3-7b27be7ebcc1"
      },
      "execution_count": 8,
      "outputs": [
        {
          "output_type": "execute_result",
          "data": {
            "text/plain": [
              "range(1, 5)"
            ]
          },
          "metadata": {},
          "execution_count": 8
        }
      ]
    },
    {
      "cell_type": "markdown",
      "source": [
        "The above code is not giving us the output because in Python 3 `range()` won't display the complete sequence of integers. Hence we need for loop which will iterate over this sequence and display every element of the sequence until it ends. Let's use the same sequence as above and create a `for` loop."
      ],
      "metadata": {
        "id": "Ih7-QT-EgZ52"
      }
    },
    {
      "cell_type": "code",
      "source": [
        "for i in range(1, 5, 1):\n",
        "  print(i)"
      ],
      "metadata": {
        "colab": {
          "base_uri": "https://localhost:8080/"
        },
        "id": "I9yT35dMgZBa",
        "outputId": "591b79e6-e548-48f4-a734-e88aa7eed7cf"
      },
      "execution_count": 9,
      "outputs": [
        {
          "output_type": "stream",
          "name": "stdout",
          "text": [
            "1\n",
            "2\n",
            "3\n",
            "4\n"
          ]
        }
      ]
    },
    {
      "cell_type": "markdown",
      "source": [
        "Just focus on the output for now, we will learn the syntax of `for` loop.\n",
        "If you look at the `range()` we have created the sequence from 1 to 5, but the output we are getting is from 1 to 4. It's because the value of `stop` argument  from the `range()` is exclusive from the sequence it means if we mention the stop number to be 5 it will stop at 4.\n",
        "\n",
        "\n",
        "```{note} \n",
        "\n",
        "**Stop argument** - Always remember it is excluded from the sequence. If you want the sequence from 0 to 10 both numbers included then your `range()` should be like `range(0,11,1)`.\n",
        "\n",
        "```\n",
        "\n"
      ],
      "metadata": {
        "id": "6kIWMa6Iiu4j"
      }
    },
    {
      "cell_type": "code",
      "source": [
        "for i in range(1, 6):\n",
        "  print(i)\n"
      ],
      "metadata": {
        "colab": {
          "base_uri": "https://localhost:8080/"
        },
        "id": "GGDXqvebimfT",
        "outputId": "1d35f0a8-e208-41ac-ba6c-20230dec6d6b"
      },
      "execution_count": 10,
      "outputs": [
        {
          "output_type": "stream",
          "name": "stdout",
          "text": [
            "1\n",
            "2\n",
            "3\n",
            "4\n",
            "5\n"
          ]
        }
      ]
    },
    {
      "cell_type": "markdown",
      "source": [
        "Now what's happenning in the above code is we are mentioning the start as 1 and stop as 6 (i.e.- the sequence will become 1, 2, 3, 4, 5), and we haven't mentioned step so it automatically take it value as +1.\n",
        "\n",
        "\n",
        "```{note} \n",
        "\n",
        "**Step argument** - Step is to tell the difference between two consecutive numbers of the sequence. For example `range(1,5,1)` the step is +1 means increment. By default the value of step is +1 even if you didn't provide it's value it will be +1. \n",
        "```\n"
      ],
      "metadata": {
        "id": "VeXSrREjqpzR"
      }
    },
    {
      "cell_type": "code",
      "source": [
        "for i in range(6):\n",
        "  print(i)"
      ],
      "metadata": {
        "colab": {
          "base_uri": "https://localhost:8080/"
        },
        "id": "VYj0634WqofH",
        "outputId": "6084589d-9063-44f0-adcc-706f04b583c7"
      },
      "execution_count": 12,
      "outputs": [
        {
          "output_type": "stream",
          "name": "stdout",
          "text": [
            "0\n",
            "1\n",
            "2\n",
            "3\n",
            "4\n",
            "5\n"
          ]
        }
      ]
    },
    {
      "cell_type": "markdown",
      "source": [
        "In above code we haven't mentioned `start` and `step` argument both. The only value we have provided is `stop`. And it automatically starts from 0.\n",
        "\n",
        "```{note} \n",
        "\n",
        "**Start argument** - Start is to tell range from where the sequence should start. By default it's value is 0, means if you don't provide the start number it will automatically start from 0 as shown above. \n",
        "```\n",
        "\n",
        "```{admonition} Question \n",
        "Now try to create a sequence from 5 to 1.(**Hint** - It has something to do with step). \n",
        "```"
      ],
      "metadata": {
        "id": "g8RdjP18r5bg"
      }
    },
    {
      "cell_type": "markdown",
      "source": [
        "## `for` loop\n",
        "\n",
        "Till now you have seen how we write `for` loop. Let's break down it's syntax.\n",
        "\n",
        "In code, a `for` statement looks something like `for i in range(5):` and always includes the following:\n",
        "\n",
        "- The `for` keyword\n",
        "\n",
        "- A *variable name*\n",
        "\n",
        "- The `in` keyword\n",
        "\n",
        "- A call to the `range()` method with up to three integers passed to it\n",
        "\n",
        "- A colon(:)\n",
        "\n",
        "- Starting on the next line, an indented block of code (called the `for` clause)\n",
        "\n",
        "The `for` loop will end where the sequence will end. That's why `range()` function was so important.\n",
        "\n",
        "```{admonition} Question \n",
        "Now try creating a for loop which will print this sequence\n",
        "\n",
        "10\n",
        "\n",
        "20\n",
        "\n",
        "30\n",
        "\n",
        "40\n",
        "\n",
        "50 \n",
        "```\n"
      ],
      "metadata": {
        "id": "IdeB5xVetpG4"
      }
    },
    {
      "cell_type": "markdown",
      "source": [
        "As we have written a code for numbers divisible by 5 using while loop, we can do it using for loop too. As shown below: \n",
        "\n"
      ],
      "metadata": {
        "id": "JdhqU4m2u8tx"
      }
    },
    {
      "cell_type": "code",
      "source": [
        "for x in range(10, 21): # stop value will be 21 because 20 should get included in the sequence\n",
        "  if x % 5 == 0:\n",
        "    print(x) "
      ],
      "metadata": {
        "colab": {
          "base_uri": "https://localhost:8080/"
        },
        "id": "wRybzyaZu0X6",
        "outputId": "02b500af-6382-4549-fcec-71d005458c2a"
      },
      "execution_count": 14,
      "outputs": [
        {
          "output_type": "stream",
          "name": "stdout",
          "text": [
            "10\n",
            "15\n",
            "20\n"
          ]
        }
      ]
    },
    {
      "cell_type": "markdown",
      "source": [
        "This example shows the similarity between for and while loop. If you know the end point or stopping point of the loop you can use both the loops.\n",
        "\n",
        "But if you have to repeat something until some condition is `False` and you don't know how many times the loop should repeat itself, then go with `while` loop. (Refer annoying while loop explained above)."
      ],
      "metadata": {
        "id": "6Km_y4HJwYsE"
      }
    },
    {
      "cell_type": "markdown",
      "source": [
        "```{admonition} Question \n",
        "Now try out the for even numbers without `if` statement (in ascending and descending order) using `for` loop. \n",
        "```"
      ],
      "metadata": {
        "id": "hm1k1T3aylH8"
      }
    },
    {
      "cell_type": "markdown",
      "source": [
        "Till now you have seen that both the loops only gets over when it reaches its stopping point/condition.\n",
        "\n",
        "But we can stop the loop before it reaches it's stopping point/condition. by mentioning `break` statement. \n",
        "\n",
        "## `break` statement\n",
        "\n",
        "`break` statement helps you stop any loop before it reaches  it stop point. you just have to write `break` as shown below.\n"
      ],
      "metadata": {
        "id": "e845qerNygzl"
      }
    },
    {
      "cell_type": "code",
      "source": [
        "for i in  range(1,6):\n",
        "  if i ==4:\n",
        "    break\n",
        "  print(i, end = ' ')"
      ],
      "metadata": {
        "colab": {
          "base_uri": "https://localhost:8080/"
        },
        "id": "p-HTMWo5wWnM",
        "outputId": "972446db-1798-487d-e65b-0a476d42eb52"
      },
      "execution_count": 33,
      "outputs": [
        {
          "output_type": "stream",
          "name": "stdout",
          "text": [
            "1 2 3 "
          ]
        }
      ]
    },
    {
      "cell_type": "markdown",
      "source": [
        "## `continue` statement\n",
        "\n",
        "`continue` is opposite of `break` statement. `continue` statement will skip the loop to next value when the mentioned condition arises and go on until the loop reaches its stop point. Let's understand it using code below."
      ],
      "metadata": {
        "id": "wu623pyS0p3T"
      }
    },
    {
      "cell_type": "code",
      "source": [
        "for i in range(1,6):\n",
        "  if i==3:\n",
        "    continue\n",
        "  print(i, end = ' ')"
      ],
      "metadata": {
        "colab": {
          "base_uri": "https://localhost:8080/"
        },
        "id": "8YC4_Z-c0Yc5",
        "outputId": "ffb8934d-82ff-4007-f75d-6fe567a4ff1c"
      },
      "execution_count": 34,
      "outputs": [
        {
          "output_type": "stream",
          "name": "stdout",
          "text": [
            "1 2 4 5 "
          ]
        }
      ]
    },
    {
      "cell_type": "markdown",
      "source": [
        "```{admonition} Homework \n",
        "Go on google and search about `end` argument from `print()` in python. \n",
        "```"
      ],
      "metadata": {
        "id": "Z5Xz_emE2wik"
      }
    },
    {
      "cell_type": "markdown",
      "source": [
        "## Types of loops:\n",
        "\n",
        "  1. **Nested Loops**: Nested term in programming is used to show one thing is inside the other. Here we are using the term nested loop, it means one loop inside the other. for example `while` loop inside another `while` loop or `for` loop inside another `for` loop or `for` loop inside `while` loop or vice versa. Let's understand it using few examples:"
      ],
      "metadata": {
        "id": "278P8Xlg3hld"
      }
    },
    {
      "cell_type": "code",
      "source": [
        "for i in range(3):\n",
        "  for j in range(3):\n",
        "    print(i,j)"
      ],
      "metadata": {
        "colab": {
          "base_uri": "https://localhost:8080/"
        },
        "id": "3nplZWQ26qcH",
        "outputId": "8de85f14-afa8-454c-8484-e8b8bb2a1dab"
      },
      "execution_count": 38,
      "outputs": [
        {
          "output_type": "stream",
          "name": "stdout",
          "text": [
            "0 0\n",
            "0 1\n",
            "0 2\n",
            "1 0\n",
            "1 1\n",
            "1 2\n",
            "2 0\n",
            "2 1\n",
            "2 2\n"
          ]
        }
      ]
    },
    {
      "cell_type": "markdown",
      "source": [
        "Now if you look closely you will observe that unless until the loop which is inside is gets over the outer loop won't increment to next value. In simple word nexted loop acn be used to create possible combination of numbers."
      ],
      "metadata": {
        "id": "Sx63uynq7CML"
      }
    },
    {
      "cell_type": "markdown",
      "source": [
        "```{admonition} Question \n",
        "Now try the same thing with `while` loops. \n",
        "```"
      ],
      "metadata": {
        "id": "lwsT5m9c7bUT"
      }
    },
    {
      "cell_type": "markdown",
      "source": [
        "\n",
        "  2. **Infinite Loop**:\n",
        "     It is a loop which will go on until you explicitly `break` the loop. Usually infinte loop is created with `while` loop. Most of the time it could happen with you because you loop couldn't reach it's stop point. If it happens with you can just stop the execution by interrupting the runtime from google colab's runtime section.  This could be useful to you while creating your first project **3 Missionaries and 3 Cannibals**.\n"
      ],
      "metadata": {
        "id": "Z4eTEmrK6pG1"
      }
    },
    {
      "cell_type": "code",
      "source": [
        "i = 0\n",
        "while i<=5:\n",
        "  print(i)"
      ],
      "metadata": {
        "id": "kbjlbovB5wQL"
      },
      "execution_count": null,
      "outputs": []
    },
    {
      "cell_type": "markdown",
      "source": [
        "## Conclusion\n",
        "\n",
        "You can execute code over and over again in a loop while a certain condition evaluates to `True`.\n",
        "\n",
        "### Questionaire\n",
        "\n",
        "1. How `while` loop is different than `for` loop?\n",
        "2. Define `range()` function in python and also its arguments.\n",
        "3. How to use `break` and `continue` statements in a loop?\n",
        "4. What loop is used to create *infinite* loop\n",
        "5. Can we use float value in step in `range()`?\n",
        "\n",
        "### Exercise\n",
        "Try to solve the questions given in this [link](https://github.com/PranavUikey/Python_Extra/blob/main/Extra_questions/02_Loops.ipynb). And if you need any help understanding the questions feel free to seek for the mentor.\n",
        "\n",
        "### Assignment\n",
        "We think it is enough Python concepts to develop a small game named **3 Missionaries and 3 Cannibals**. Click on [this link](https://drive.google.com/file/d/1ftAQlhM_6Uer5FUijgSEAXXJHO9W2G4K/view?usp=sharing) and start working on your skills you’ve learnt so far.\n",
        "\n",
        "**All the best!!!**\n"
      ],
      "metadata": {
        "id": "X9tqZmxl3fdG"
      }
    }
  ]
}