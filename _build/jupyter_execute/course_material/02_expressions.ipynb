{
 "cells": [
  {
   "cell_type": "markdown",
   "metadata": {
    "id": "dLoRbYptlq5P"
   },
   "source": [
    "# Expressions\n",
    "\n",
    "\n",
    "What do you think when you hear the word expression. Most of the people start thinking about mathematical expresssion. And you are not even wrong, you guessed it correct. So this chapter is about mathematical expressions along with some basic programming concepts before you can do anything. Like any other beginner-in-training, you might think these concepts seem arcane and tedious, but with some knowledge and practice, you'll be able to command your computer to perform incredible feats.\n",
    "\n",
    "This chapter has a few examples that encourage you to type into the code cells, which lets you execute Python instructions one at a time and shows you the results instantly. Using the Jupyter Notebooks/Google Colab is great for learning what basic Python instructions do, so give it a try as you follow along. You'll remember the things you **DO much better** than the things you only read. \n",
    "\n",
    "So following is a basic code cell with an simple mathematical expression."
   ]
  },
  {
   "cell_type": "code",
   "execution_count": null,
   "metadata": {
    "colab": {
     "base_uri": "https://localhost:8080/"
    },
    "id": "T-8xjddolkwO",
    "outputId": "eec81166-2d3f-4084-8e0e-d29772472309"
   },
   "outputs": [
    {
     "data": {
      "text/plain": [
       "4"
      ]
     },
     "execution_count": 1,
     "metadata": {},
     "output_type": "execute_result"
    }
   ],
   "source": [
    "2+2"
   ]
  },
  {
   "cell_type": "markdown",
   "metadata": {
    "id": "NIRuU7xen9e-"
   },
   "source": [
    "In Python, 2 + 2 is called an expression, which is the most basic kind of programming instruction in the language. **Expressions** consist of values (such as 2) and operators (such as +), and they can always evaluate (that is, reduce) down to a single value. That means you can use expressions anywhere in Python code that you could also use a value.\n",
    "\n",
    "The above example, 2 + 2 is evaluated down to a single value, 4. A single value with no operators is also considered an expression, though it evaluates only to itself, as shown here:"
   ]
  },
  {
   "cell_type": "code",
   "execution_count": null,
   "metadata": {
    "colab": {
     "base_uri": "https://localhost:8080/"
    },
    "id": "coNGWOjxn3b_",
    "outputId": "7e1bfe66-c96d-4f69-cef1-171db70ed464"
   },
   "outputs": [
    {
     "data": {
      "text/plain": [
       "2"
      ]
     },
     "execution_count": 2,
     "metadata": {},
     "output_type": "execute_result"
    }
   ],
   "source": [
    "2"
   ]
  },
  {
   "cell_type": "markdown",
   "metadata": {
    "id": "188g1Y8Gozyj"
   },
   "source": [
    "There are plenty of other operators you can use in Python expressions, too. For example, below Table lists all the math operators in Python.\n",
    "\n",
    "\n",
    "| Operator     | Name           | Description                                            | Example        | Evaluates to...   |\n",
    "|--------------|----------------|--------------------------------------------------------|----------------|-------------------|\n",
    "| ``a + b``    | Addition       | Sum of ``a`` and ``b``                                 | `2 + 2`        | `4`               |\n",
    "| ``a - b``    | Subtraction    | Difference of ``a`` and ``b``                          | `5 - 2`        | `3`               |\n",
    "| ``a * b``    | Multiplication | Product of ``a`` and ``b``                             | `5 * 3`        | `15`              |\n",
    "| ``a / b``    | True division  | Quotient of ``a`` and ``b``                            | `5 / 2`        | `2.5`             |\n",
    "| ``a // b``   | Floor division | Quotient of ``a`` and ``b``, removing fractional parts | `5 // 2`       | `2`               |\n",
    "| ``a % b``    | Modulus        | Integer remainder after division of ``a`` by ``b``     | `5 % 2`        | `1`               |\n",
    "| ``a ** b``   | Exponentiation | ``a`` raised to the power of ``b``                     | `5 ** 2`       | `25`              |\n"
   ]
  },
  {
   "cell_type": "markdown",
   "metadata": {
    "id": "cwDKP67epFQC"
   },
   "source": [
    "Let's go one step up and create an expression which will use more than one operators, as follows:\n"
   ]
  },
  {
   "cell_type": "code",
   "execution_count": null,
   "metadata": {
    "colab": {
     "base_uri": "https://localhost:8080/"
    },
    "id": "MrX1vUA2oGma",
    "outputId": "6d3eaf7b-ee34-4de6-fc18-6f987980f1a1"
   },
   "outputs": [
    {
     "data": {
      "text/plain": [
       "7"
      ]
     },
     "execution_count": 3,
     "metadata": {},
     "output_type": "execute_result"
    }
   ],
   "source": [
    "1 + 2 * 3"
   ]
  },
  {
   "cell_type": "markdown",
   "metadata": {
    "id": "1oNy9HxzpYVQ"
   },
   "source": [
    "Don't you think the answer should be **9** instead of **7**. Give it a thought why it comes out 7.It is because of precedence in operators.\n",
    "\n",
    "The order of operations (also called **precedence**) of Python math operators is similar to that of mathematics. In our school life we all must have heard and applied **BODMAS** rule, but it was in mathematics. In python the rule is called **PEMDAS** rule, it is because parenthesis`()` is solved first and then `**` operator is evaluated; the `*`, `/`, `//`, and `%` operators are evaluated next, from left to right; and the `+` and `-` operators are evaluated last (also from left to right). You can use *parentheses* () to override the usual precedence if you need to. Let's see the same example but with added parenthesis:\n"
   ]
  },
  {
   "cell_type": "code",
   "execution_count": null,
   "metadata": {
    "colab": {
     "base_uri": "https://localhost:8080/"
    },
    "id": "kWkGDovOpTzh",
    "outputId": "2a4a4a27-f3db-42af-d9c4-28df5a3c85b3"
   },
   "outputs": [
    {
     "data": {
      "text/plain": [
       "9"
      ]
     },
     "execution_count": 4,
     "metadata": {},
     "output_type": "execute_result"
    }
   ],
   "source": [
    "(1+2)*3"
   ]
  },
  {
   "cell_type": "markdown",
   "metadata": {
    "id": "I1NkaCw7qjIv"
   },
   "source": [
    "Hey now the answer comes out to be 9 which we have guessed it to be.\n",
    "\n",
    "You can also see other operators from the above table:"
   ]
  },
  {
   "cell_type": "code",
   "execution_count": null,
   "metadata": {
    "colab": {
     "base_uri": "https://localhost:8080/"
    },
    "id": "cDGLnspSqiNY",
    "outputId": "2d321fc9-2957-4d30-a194-b95ed8033ea4"
   },
   "outputs": [
    {
     "data": {
      "text/plain": [
       "56393703190521"
      ]
     },
     "execution_count": 5,
     "metadata": {},
     "output_type": "execute_result"
    }
   ],
   "source": [
    "123456789 * 456789"
   ]
  },
  {
   "cell_type": "code",
   "execution_count": null,
   "metadata": {
    "colab": {
     "base_uri": "https://localhost:8080/"
    },
    "id": "_GV6fvjbq5cP",
    "outputId": "5d49b68d-8e86-49c4-b066-20c246b920bf"
   },
   "outputs": [
    {
     "data": {
      "text/plain": [
       "1024"
      ]
     },
     "execution_count": 6,
     "metadata": {},
     "output_type": "execute_result"
    }
   ],
   "source": [
    "2 ** 10"
   ]
  },
  {
   "cell_type": "code",
   "execution_count": null,
   "metadata": {
    "colab": {
     "base_uri": "https://localhost:8080/"
    },
    "id": "ad0_V-pAq-Dv",
    "outputId": "3cd26a5a-666c-4dfd-9428-acb5f979914d"
   },
   "outputs": [
    {
     "data": {
      "text/plain": [
       "3.142857142857143"
      ]
     },
     "execution_count": 7,
     "metadata": {},
     "output_type": "execute_result"
    }
   ],
   "source": [
    "22 / 7"
   ]
  },
  {
   "cell_type": "code",
   "execution_count": null,
   "metadata": {
    "colab": {
     "base_uri": "https://localhost:8080/"
    },
    "id": "tATV3wMgrAay",
    "outputId": "c0042793-a138-42bb-9f47-e4875bdc7e2a"
   },
   "outputs": [
    {
     "data": {
      "text/plain": [
       "1"
      ]
     },
     "execution_count": 8,
     "metadata": {},
     "output_type": "execute_result"
    }
   ],
   "source": [
    "22 % 7"
   ]
  },
  {
   "cell_type": "code",
   "execution_count": null,
   "metadata": {
    "colab": {
     "base_uri": "https://localhost:8080/"
    },
    "id": "rwAuFs5ErCyM",
    "outputId": "0e0a0fea-ea30-46ad-e276-f27074e89f80"
   },
   "outputs": [
    {
     "data": {
      "text/plain": [
       "4"
      ]
     },
     "execution_count": 9,
     "metadata": {},
     "output_type": "execute_result"
    }
   ],
   "source": [
    "2     +            2"
   ]
  },
  {
   "cell_type": "markdown",
   "metadata": {
    "id": "bEiq9IQprDVg"
   },
   "source": [
    "In the above code cell you can see there are a lot of spaced between the operator and the values, python does not care about how many spaces is between operators and the values, it simply ignores it. And hence it can be calulated as `2+2`"
   ]
  },
  {
   "cell_type": "markdown",
   "metadata": {
    "id": "-OuG8oeDrrmx"
   },
   "source": [
    "```{admonition} Question \n",
    "Now try out the similar example as we have tried, take out your notebook and pen and calculate what will be the answer of following expressions:\n",
    "```\n",
    "\n",
    "```{code-block} python\n",
    "  (4 - 1) * ((7 + 3) / (3 - 1))\n",
    "```\n",
    "\n",
    "\n",
    "If your answer comes out `15`, then you are absolutely correct. Let's figure out how it is 15."
   ]
  },
  {
   "cell_type": "code",
   "execution_count": 12,
   "metadata": {
    "colab": {
     "base_uri": "https://localhost:8080/"
    },
    "id": "m9NZRTAKssnb",
    "outputId": "75a0c8c9-904a-4021-ce5f-90b4b4782e8e"
   },
   "outputs": [
    {
     "data": {
      "text/plain": [
       "15.0"
      ]
     },
     "execution_count": 12,
     "metadata": {},
     "output_type": "execute_result"
    }
   ],
   "source": [
    "(4 - 1) * ((7 + 3) / (3 - 1))"
   ]
  },
  {
   "cell_type": "markdown",
   "metadata": {
    "id": "kv2sFQATtLhX"
   },
   "source": [
    "In each case, you as the programmer must enter the expression, but Python does the hard part of evaluating it down to a single value. Python will keep evaluating parts of the expression until it becomes a single value, as shown in figure below\n",
    "\n",
    "![](../images/expression.png)\n",
    "\n",
    "\n",
    "These rules for putting operators and values together to form expressions are a fundamental part of Python as a programming language, just like the grammar rules that help us communicate. Here’s an example:\n",
    "\n",
    "- This is a grammatically correct English sentence.\n",
    "\n",
    "- This grammatically is sentence not English correct a.\n",
    "\n",
    "The second line is difficult to parse because it doesn’t follow the rules of English. Similarly, if you type in a bad Python instruction, Python won’t be able to understand it and will display a `SyntaxError` error message, as shown here:"
   ]
  },
  {
   "cell_type": "code",
   "execution_count": 10,
   "metadata": {
    "colab": {
     "base_uri": "https://localhost:8080/",
     "height": 130
    },
    "id": "ret-VEAkrbjT",
    "outputId": "37dd87fb-4478-4f0d-f37d-9b5fae754002"
   },
   "outputs": [
    {
     "ename": "SyntaxError",
     "evalue": "ignored",
     "output_type": "error",
     "traceback": [
      "\u001b[0;36m  File \u001b[0;32m\"<ipython-input-10-4f4744a157be>\"\u001b[0;36m, line \u001b[0;32m1\u001b[0m\n\u001b[0;31m    5 +\u001b[0m\n\u001b[0m       ^\u001b[0m\n\u001b[0;31mSyntaxError\u001b[0m\u001b[0;31m:\u001b[0m invalid syntax\n"
     ]
    }
   ],
   "source": [
    "5 +"
   ]
  },
  {
   "cell_type": "code",
   "execution_count": 11,
   "metadata": {
    "colab": {
     "base_uri": "https://localhost:8080/",
     "height": 130
    },
    "id": "nHSKZ7xYtfgz",
    "outputId": "714e7acf-a2d5-433d-fe73-6a0673cca8fe"
   },
   "outputs": [
    {
     "ename": "SyntaxError",
     "evalue": "ignored",
     "output_type": "error",
     "traceback": [
      "\u001b[0;36m  File \u001b[0;32m\"<ipython-input-11-ed878fdb87ac>\"\u001b[0;36m, line \u001b[0;32m1\u001b[0m\n\u001b[0;31m    40 + 5 + * 2\u001b[0m\n\u001b[0m             ^\u001b[0m\n\u001b[0;31mSyntaxError\u001b[0m\u001b[0;31m:\u001b[0m invalid syntax\n"
     ]
    }
   ],
   "source": [
    "40 + 5 + * 2"
   ]
  },
  {
   "cell_type": "markdown",
   "metadata": {
    "id": "X7qCQ9hHrbgR"
   },
   "source": [
    "You can always test to see whether an instruction works by typing it into the cell. Don’t worry about breaking the computer: The worst thing that could happen is that Python responds with an error message. Professional software developers get error messages while writing code all the time.\n",
    "\n",
    "```{admonition} Errors are Okay!\n",
    "\n",
    "Programs will crash if they contain code the computer can’t understand, which will cause Python to show an error message. An error message won’t break your computer, though, so don’t be afraid to make mistakes. A crash just means the program stopped running unexpectedly.\n",
    "If you want to know more about an error message, you can search for the exact message text online to find out more about that specific error.\n",
    "```\n",
    "\n",
    "\n",
    "```{admonition} Question\n",
    "\n",
    "By looking at the above code cell what do you think the output will be of the following expression:\n",
    "```\n",
    "```{code-block} python\n",
    "  56 % 7 * + 2\n",
    "```\n",
    "\n",
    "Try it out in your system and check the answer.\n",
    "\n",
    "\n",
    "\n",
    "Shocking isn't it!!! The above example is hardly even an expression because two consecutive operators (i.e.-  `*` and `+`) operators are there without any value present in between. So according to our defintion of expressions, two values should be seprated by only one operator. \n",
    "\n",
    "But in above example the `+` operator acts as the symbol of 2 not the operator `+`."
   ]
  },
  {
   "cell_type": "code",
   "execution_count": 13,
   "metadata": {
    "colab": {
     "base_uri": "https://localhost:8080/"
    },
    "id": "Aa8t7Vv5vVQM",
    "outputId": "2d0dd524-b669-466e-88e4-dd81f01eb770"
   },
   "outputs": [
    {
     "data": {
      "text/plain": [
       "0"
      ]
     },
     "execution_count": 13,
     "metadata": {},
     "output_type": "execute_result"
    }
   ],
   "source": [
    "56 % 7 * + 2"
   ]
  },
  {
   "cell_type": "markdown",
   "metadata": {
    "id": "lxM-w2ePDGTR"
   },
   "source": [
    "## Data Types\n",
    "\n",
    "Remember that expressions are just values combined with operators, and they always evaluate down to a single value. A **data type** is a category for values, and every value belongs to exactly one data type. Data Types are very important because they tell you what operations can be performed on the operator (more on this later). The most common data types in Python are listed in Table below.\n",
    "\n",
    "\n",
    "| Data Type  |Examples                           | Defitions                                                              |\n",
    "|------------|-----------------------------------|------------------------------------------------------------------------|\n",
    "| Integers   | `-2`,`-1`,`0`,`1`,`2`,`3`         | The integer (or `int`) data type indicates values that are whole numbers |\n",
    "| Float      |`-1.0`,`-0.25`,`0.0`,`0.25`,`1.0`  | Numbers with a decimal point, such as 3.14, are called *floating-point numbers* (or `float`) |\n",
    "| Strings    | `'aa'`, `'aaa'`, `'Hello!'`, `'11 cats'` |A string in Python is a sequence of characters which are always surrounded in single/double quote (') or (\")|\n",
    "\n",
    "\n",
    "```{note}\n",
    "Note that even though the value 42 is an integer, the value 42.0 would be a floating-point number.\n",
    "```\n",
    "\n",
    "\n",
    "### Integers\n",
    "\n",
    "Integers are purely whole numbers including negative values as well.\n"
   ]
  },
  {
   "cell_type": "code",
   "execution_count": 1,
   "metadata": {
    "colab": {
     "base_uri": "https://localhost:8080/"
    },
    "id": "ZVoRvrTYq7r9",
    "outputId": "6bcc7ac8-d8d7-4c01-9785-617646de0d0e"
   },
   "outputs": [
    {
     "data": {
      "text/plain": [
       "5"
      ]
     },
     "execution_count": 1,
     "metadata": {},
     "output_type": "execute_result"
    }
   ],
   "source": [
    "10 - 5"
   ]
  },
  {
   "cell_type": "markdown",
   "metadata": {
    "id": "Bqyj7TaCEZad"
   },
   "source": [
    "### Float\n",
    "The floating-point type can store fractional numbers. They can be defined in standard decimal notation, as follows:"
   ]
  },
  {
   "cell_type": "code",
   "execution_count": 2,
   "metadata": {
    "colab": {
     "base_uri": "https://localhost:8080/"
    },
    "id": "9luCqRbiEWqA",
    "outputId": "55cbe9b0-a6f4-4e81-9a42-2dfaf1bc4ddd"
   },
   "outputs": [
    {
     "data": {
      "text/plain": [
       "508.5"
      ]
     },
     "execution_count": 2,
     "metadata": {},
     "output_type": "execute_result"
    }
   ],
   "source": [
    "33.9 * 15"
   ]
  },
  {
   "cell_type": "markdown",
   "metadata": {
    "id": "m2wcB-d7EfQT"
   },
   "source": [
    "### Strings\n",
    "\n",
    "Python programs can also have text values called **strings**, or **strs**. Always surround your string in single quote (') or double quote(\") characters (as in 'Hello' or \"Goodbye cruel world!\") so Python knows where the string begins and ends. You can even have a string with no characters in it, `''`, called a *blank string*.\n",
    "\n",
    "If you ever see the error message `SyntaxError: EOL while scanning string literal`, you probably forgot the final single quote character at the end of the string, such as in this example:"
   ]
  },
  {
   "cell_type": "code",
   "execution_count": 3,
   "metadata": {
    "colab": {
     "base_uri": "https://localhost:8080/",
     "height": 130
    },
    "id": "yRroijkxEc_x",
    "outputId": "5a6f1e02-415a-452f-9dd1-ac95dff29322"
   },
   "outputs": [
    {
     "ename": "SyntaxError",
     "evalue": "ignored",
     "output_type": "error",
     "traceback": [
      "\u001b[0;36m  File \u001b[0;32m\"<ipython-input-3-b0711bd32433>\"\u001b[0;36m, line \u001b[0;32m1\u001b[0m\n\u001b[0;31m    'Hello world!\u001b[0m\n\u001b[0m                 ^\u001b[0m\n\u001b[0;31mSyntaxError\u001b[0m\u001b[0;31m:\u001b[0m EOL while scanning string literal\n"
     ]
    }
   ],
   "source": [
    "'Hello world!"
   ]
  },
  {
   "cell_type": "markdown",
   "metadata": {
    "id": "huI3ZJxqEjv7"
   },
   "source": [
    "#### String Concatenation\n",
    "\n",
    "The meaning of an operator may change based on the data types of the values next to it. For example, `+` is the addition operator when it operates on two integers or floating-point values. However, when `+` is used on two string values, it joins the strings as the string concatenation operator. Try out the following example."
   ]
  },
  {
   "cell_type": "code",
   "execution_count": 4,
   "metadata": {
    "colab": {
     "base_uri": "https://localhost:8080/",
     "height": 35
    },
    "id": "_Wj1QfNlEh0S",
    "outputId": "3e5f2d5b-5e18-4f99-e6b1-43a41fdca82f"
   },
   "outputs": [
    {
     "data": {
      "application/vnd.google.colaboratory.intrinsic+json": {
       "type": "string"
      },
      "text/plain": [
       "'aiadventures'"
      ]
     },
     "execution_count": 4,
     "metadata": {},
     "output_type": "execute_result"
    }
   ],
   "source": [
    "'ai' + 'adventures'"
   ]
  },
  {
   "cell_type": "markdown",
   "metadata": {
    "id": "-1zodJAFEno-"
   },
   "source": [
    "The expression evaluates down to a single, new string value that combines the text of the two strings. However, if you try to use the `+` operator on a string and an integer value, Python will not know how to handle this, and it will display an error message."
   ]
  },
  {
   "cell_type": "code",
   "execution_count": 5,
   "metadata": {
    "colab": {
     "base_uri": "https://localhost:8080/",
     "height": 165
    },
    "id": "-re7SrDZElRc",
    "outputId": "66913b39-e8a0-4703-df1c-47064c31f776"
   },
   "outputs": [
    {
     "ename": "TypeError",
     "evalue": "ignored",
     "output_type": "error",
     "traceback": [
      "\u001b[0;31m---------------------------------------------------------------------------\u001b[0m",
      "\u001b[0;31mTypeError\u001b[0m                                 Traceback (most recent call last)",
      "\u001b[0;32m<ipython-input-5-55077b22f808>\u001b[0m in \u001b[0;36m<module>\u001b[0;34m()\u001b[0m\n\u001b[0;32m----> 1\u001b[0;31m \u001b[0;34m'ai'\u001b[0m \u001b[0;34m+\u001b[0m \u001b[0;36m42\u001b[0m\u001b[0;34m\u001b[0m\u001b[0;34m\u001b[0m\u001b[0m\n\u001b[0m",
      "\u001b[0;31mTypeError\u001b[0m: can only concatenate str (not \"int\") to str"
     ]
    }
   ],
   "source": [
    "'ai' + 42"
   ]
  },
  {
   "cell_type": "markdown",
   "metadata": {
    "id": "ZTf_YvVHErTI"
   },
   "source": [
    "The error message says that python can't do the operation because python does not knows how to add a `str` and an `int`. User has to convert the `int` to `str` data type before he/she can add 42 to 'ai'.\n",
    "\n",
    "#### String Replication\n",
    "\n",
    "The `*` operator is used for multiplication when it operates on two integer or floating-point values. But when the `*` operator is used on one string value and one integer value, it becomes the string replication operator. Enter a string multiplied by a number to see this in action."
   ]
  },
  {
   "cell_type": "code",
   "execution_count": 6,
   "metadata": {
    "colab": {
     "base_uri": "https://localhost:8080/",
     "height": 35
    },
    "id": "9z2Si1pKEpYz",
    "outputId": "febffb11-d993-43c1-9f98-29938d9dad5e"
   },
   "outputs": [
    {
     "data": {
      "application/vnd.google.colaboratory.intrinsic+json": {
       "type": "string"
      },
      "text/plain": [
       "'aiaiaiaiai'"
      ]
     },
     "execution_count": 6,
     "metadata": {},
     "output_type": "execute_result"
    }
   ],
   "source": [
    "'ai' * 5"
   ]
  },
  {
   "cell_type": "markdown",
   "metadata": {
    "id": "Rc1tljcHFFxH"
   },
   "source": [
    "The expression evaluates down to a single string value that repeats the original a number of times equal to the integer value. String replication is a useful trick, but it’s not used as often as string concatenation.\n",
    "\n",
    "The `*` operator can be used with only two numeric values (for multiplication) or one string value and one integer value (for string replication). Otherwise, Python will just display an error message.\n",
    "\n",
    "For example . . . "
   ]
  },
  {
   "cell_type": "code",
   "execution_count": 7,
   "metadata": {
    "colab": {
     "base_uri": "https://localhost:8080/",
     "height": 165
    },
    "id": "XG-VVzCXEvD7",
    "outputId": "b1e1d366-9ea1-4168-f96b-e0dfa1e3411d"
   },
   "outputs": [
    {
     "ename": "TypeError",
     "evalue": "ignored",
     "output_type": "error",
     "traceback": [
      "\u001b[0;31m---------------------------------------------------------------------------\u001b[0m",
      "\u001b[0;31mTypeError\u001b[0m                                 Traceback (most recent call last)",
      "\u001b[0;32m<ipython-input-7-d68f526a72b9>\u001b[0m in \u001b[0;36m<module>\u001b[0;34m()\u001b[0m\n\u001b[0;32m----> 1\u001b[0;31m \u001b[0;34m'ai'\u001b[0m \u001b[0;34m*\u001b[0m \u001b[0;34m'adventures'\u001b[0m\u001b[0;34m\u001b[0m\u001b[0;34m\u001b[0m\u001b[0m\n\u001b[0m",
      "\u001b[0;31mTypeError\u001b[0m: can't multiply sequence by non-int of type 'str'"
     ]
    }
   ],
   "source": [
    "'ai' * 'adventures'"
   ]
  },
  {
   "cell_type": "code",
   "execution_count": 8,
   "metadata": {
    "colab": {
     "base_uri": "https://localhost:8080/",
     "height": 165
    },
    "id": "nlcVlqnVFNae",
    "outputId": "33905b33-99ce-4a38-bf5a-79f49502e476"
   },
   "outputs": [
    {
     "ename": "TypeError",
     "evalue": "ignored",
     "output_type": "error",
     "traceback": [
      "\u001b[0;31m---------------------------------------------------------------------------\u001b[0m",
      "\u001b[0;31mTypeError\u001b[0m                                 Traceback (most recent call last)",
      "\u001b[0;32m<ipython-input-8-64f1bf4b86f5>\u001b[0m in \u001b[0;36m<module>\u001b[0;34m()\u001b[0m\n\u001b[0;32m----> 1\u001b[0;31m \u001b[0;34m'ai'\u001b[0m \u001b[0;34m*\u001b[0m \u001b[0;36m5.0\u001b[0m\u001b[0;34m\u001b[0m\u001b[0;34m\u001b[0m\u001b[0m\n\u001b[0m",
      "\u001b[0;31mTypeError\u001b[0m: can't multiply sequence by non-int of type 'float'"
     ]
    }
   ],
   "source": [
    "'ai' * 5.0"
   ]
  },
  {
   "cell_type": "markdown",
   "metadata": {
    "id": "lDnQjRxpFRWQ"
   },
   "source": [
    "It makes sense that Python wouldn’t understand these expressions: You can’t multiply two words, and it’s hard to replicate an arbitrary string a fractional number of times.\n",
    "\n",
    "\n",
    "Now let's do one simple exercise. Just imagine any number, for example: 42 it is an integer. All you have to do is add 1 to this number then in next code cell multiply the number (42) with 7324, and in the next code cell subtract 2 from the number(42)."
   ]
  },
  {
   "cell_type": "code",
   "execution_count": 12,
   "metadata": {
    "colab": {
     "base_uri": "https://localhost:8080/"
    },
    "id": "20rjLEvMFPUD",
    "outputId": "e8a356bc-bcb5-4962-d5bc-126bcf280a52"
   },
   "outputs": [
    {
     "data": {
      "text/plain": [
       "43"
      ]
     },
     "execution_count": 12,
     "metadata": {},
     "output_type": "execute_result"
    }
   ],
   "source": [
    "42 + 1"
   ]
  },
  {
   "cell_type": "code",
   "execution_count": 13,
   "metadata": {
    "colab": {
     "base_uri": "https://localhost:8080/"
    },
    "id": "Vb9GB-cLKsKB",
    "outputId": "d9cd8a5e-a859-4db6-8b39-0abca3dc3ed5"
   },
   "outputs": [
    {
     "data": {
      "text/plain": [
       "307608"
      ]
     },
     "execution_count": 13,
     "metadata": {},
     "output_type": "execute_result"
    }
   ],
   "source": [
    "42 * 7324"
   ]
  },
  {
   "cell_type": "code",
   "execution_count": 14,
   "metadata": {
    "colab": {
     "base_uri": "https://localhost:8080/"
    },
    "id": "gsZgCy5QKttr",
    "outputId": "67f44e75-7c0b-4264-cb83-4c1f0a8716d6"
   },
   "outputs": [
    {
     "data": {
      "text/plain": [
       "40"
      ]
     },
     "execution_count": 14,
     "metadata": {},
     "output_type": "execute_result"
    }
   ],
   "source": [
    "42 - 2"
   ]
  },
  {
   "cell_type": "markdown",
   "metadata": {
    "id": "2d4hWq7QKxdE"
   },
   "source": [
    "What if I asked you to change the number 42 with some other numb 100 and do the same operations, then you have to edit all the code cell and change 42 with 100. And again I asked you to change 100 with 208 and do the same operations again. You will see that you have to change all the values where you have used the number (i.e. - 42 in the first example). There is a way to reduce your work, it is storing a value in a variable and then use the variable name to get the value stored in it.\n",
    "\n",
    "\n",
    "## Storing Values in Variables\n",
    "\n",
    "A **variable** is like a envelope in the computer’s memory where you can store a single value. If you want to use the result of an evaluated expression later in your program, you can save it inside a variable.\n",
    "\n",
    "\n",
    "### Assignment Statements\n",
    "\n",
    "You’ll store values in variables with an *assignment statement*. An **assignment statement** consists of a *variable name*, an *equal sign* (called the **assignment operator**), and the *value to be stored*. If you enter the assignment statement `var = 42`, then a variable named `var` will have the integer value 42 stored in it.\n",
    "\n",
    "Think of a variable as a labeled envelope that a value is placed in, as in the figure.\n",
    "\n",
    "![](../images/000060.png)\n",
    "\n",
    "\n",
    "In python, a variable is initialized (or created) the first time a value is stored in it."
   ]
  },
  {
   "cell_type": "code",
   "execution_count": 19,
   "metadata": {
    "id": "RSI3bgm8Lz2N"
   },
   "outputs": [],
   "source": [
    "var = 42"
   ]
  },
  {
   "cell_type": "code",
   "execution_count": 20,
   "metadata": {
    "colab": {
     "base_uri": "https://localhost:8080/"
    },
    "id": "rMeCzSL8MK8s",
    "outputId": "fd63d04e-5b00-482c-99df-7241ff4b162b"
   },
   "outputs": [
    {
     "data": {
      "text/plain": [
       "43"
      ]
     },
     "execution_count": 20,
     "metadata": {},
     "output_type": "execute_result"
    }
   ],
   "source": [
    "var + 1"
   ]
  },
  {
   "cell_type": "code",
   "execution_count": 21,
   "metadata": {
    "colab": {
     "base_uri": "https://localhost:8080/"
    },
    "id": "zhs8r61FMMsc",
    "outputId": "c8db9add-267a-4cb9-d287-1d6073305f1d"
   },
   "outputs": [
    {
     "data": {
      "text/plain": [
       "307608"
      ]
     },
     "execution_count": 21,
     "metadata": {},
     "output_type": "execute_result"
    }
   ],
   "source": [
    "var * 7324"
   ]
  },
  {
   "cell_type": "code",
   "execution_count": 22,
   "metadata": {
    "colab": {
     "base_uri": "https://localhost:8080/"
    },
    "id": "Id9FYGIzMPfK",
    "outputId": "bf9760ad-8558-47d4-be5c-ec324898b5a6"
   },
   "outputs": [
    {
     "data": {
      "text/plain": [
       "40"
      ]
     },
     "execution_count": 22,
     "metadata": {},
     "output_type": "execute_result"
    }
   ],
   "source": [
    "var - 2"
   ]
  },
  {
   "cell_type": "markdown",
   "metadata": {
    "id": "5J_uhRH3Lr6W"
   },
   "source": [
    "If you observe now, you don't have to change the value 42 in every code cell, you just have to change the variable initialization and automatically it can be used anaywhere you are using variable's name.\n",
    "\n",
    "You can see that even though I have defined the variable in some other code cell I can still use it any code cell after defining the variable\n",
    "\n",
    "\n",
    "\n",
    "\n",
    "Let's try and use some variables in the exressions."
   ]
  },
  {
   "cell_type": "code",
   "execution_count": 26,
   "metadata": {
    "colab": {
     "base_uri": "https://localhost:8080/"
    },
    "id": "9obCyZWNKvOp",
    "outputId": "58bef867-e76a-4ee0-db8e-0166dd8993fd"
   },
   "outputs": [
    {
     "data": {
      "text/plain": [
       "121"
      ]
     },
     "execution_count": 26,
     "metadata": {},
     "output_type": "execute_result"
    }
   ],
   "source": [
    "apples = 9\n",
    "balls = 2\n",
    "\n",
    "(apples + balls) ** 2"
   ]
  },
  {
   "cell_type": "code",
   "execution_count": 27,
   "metadata": {
    "colab": {
     "base_uri": "https://localhost:8080/"
    },
    "id": "a9cV8PD7NloT",
    "outputId": "4eb4e758-2783-404f-cd62-065be86c4117"
   },
   "outputs": [
    {
     "data": {
      "text/plain": [
       "4"
      ]
     },
     "execution_count": 27,
     "metadata": {},
     "output_type": "execute_result"
    }
   ],
   "source": [
    "apples // balls"
   ]
  },
  {
   "cell_type": "markdown",
   "metadata": {
    "id": "QO-13eUSZsof"
   },
   "source": [
    "Now what if we have to write more than one line in single code cell? Don't worry there is one thing called `print() ` pronounced as **print function**. `print()` can be used to display anything written inside it's parenthesis."
   ]
  },
  {
   "cell_type": "code",
   "execution_count": 28,
   "metadata": {
    "colab": {
     "base_uri": "https://localhost:8080/"
    },
    "id": "yaUHFaa-agWG",
    "outputId": "c4da8af8-2cc1-48bb-9ed0-d62ad76e0b62"
   },
   "outputs": [
    {
     "name": "stdout",
     "output_type": "stream",
     "text": [
      "Hello My name is aiadventures.\n"
     ]
    }
   ],
   "source": [
    "print('Hello My name is aiadventures.')"
   ]
  },
  {
   "cell_type": "code",
   "execution_count": null,
   "metadata": {
    "id": "-Nt88yx2OBY1"
   },
   "outputs": [],
   "source": [
    "print(var + balls)\n",
    "var + balls + var"
   ]
  },
  {
   "cell_type": "markdown",
   "metadata": {
    "id": "uQQiXeOdap3t"
   },
   "source": [
    "```{note} \n",
    "Here we are not using `print()` function  in the second line but still it displays the output. This is only possible in *Jupyter Notebook/Google Colab*, every last line of code cell always displays the output of the variable or operation. If you want to see the output intermediately then use `print()` function.\n",
    "```"
   ]
  },
  {
   "cell_type": "markdown",
   "metadata": {
    "id": "VZwg6GkxazAf"
   },
   "source": [
    "### Overwriting an variable\n",
    "\n",
    "You must remember the word **overwriting** from file overwriting. It means you are changing it's old content to new content. It is exact same thing with variable overwriting."
   ]
  },
  {
   "cell_type": "code",
   "execution_count": 29,
   "metadata": {
    "colab": {
     "base_uri": "https://localhost:8080/"
    },
    "id": "tQZlJrvMawWL",
    "outputId": "0715e9c1-1198-4502-a2fb-d9d885cae4a3"
   },
   "outputs": [
    {
     "data": {
      "text/plain": [
       "44"
      ]
     },
     "execution_count": 29,
     "metadata": {},
     "output_type": "execute_result"
    }
   ],
   "source": [
    "var = var + 2\n",
    "var"
   ]
  },
  {
   "cell_type": "markdown",
   "metadata": {
    "id": "dM0ZC8EqbOBf"
   },
   "source": [
    "When a variable is assigned a new value, the old value is forgotten, which is why `var` evaluated to 44 instead of 42 at the end of the example. This is called **overwriting the variable**. Try the following code into your Jupyter Notebook's cell to overwriting a string:"
   ]
  },
  {
   "cell_type": "code",
   "execution_count": 30,
   "metadata": {
    "colab": {
     "base_uri": "https://localhost:8080/",
     "height": 35
    },
    "id": "7XTSMXCkbMQu",
    "outputId": "edb147ce-bcde-4870-93e6-23e5b688f163"
   },
   "outputs": [
    {
     "data": {
      "application/vnd.google.colaboratory.intrinsic+json": {
       "type": "string"
      },
      "text/plain": [
       "'Hello'"
      ]
     },
     "execution_count": 30,
     "metadata": {},
     "output_type": "execute_result"
    }
   ],
   "source": [
    "var = 'Hello'\n",
    "var"
   ]
  },
  {
   "cell_type": "code",
   "execution_count": 31,
   "metadata": {
    "colab": {
     "base_uri": "https://localhost:8080/",
     "height": 35
    },
    "id": "4aGFBuRbbXLM",
    "outputId": "58ada758-7b22-4c6f-cb97-94dc53a5204c"
   },
   "outputs": [
    {
     "data": {
      "application/vnd.google.colaboratory.intrinsic+json": {
       "type": "string"
      },
      "text/plain": [
       "'Goodbye'"
      ]
     },
     "execution_count": 31,
     "metadata": {},
     "output_type": "execute_result"
    }
   ],
   "source": [
    "var = 'Goodbye'\n",
    "var"
   ]
  },
  {
   "cell_type": "markdown",
   "metadata": {
    "id": "fAU-Hkgtbag6"
   },
   "source": [
    "Overwriting can be done in multiple code cells as well.\n",
    "\n",
    "The `var` variable in this example stores 'Hello' until you replace it with 'Goodbye'.\n",
    "\n",
    "![](../images/000064.png)\n",
    "\n",
    "\n",
    "### Variable Names\n",
    "Table below has examples of legal variable names. You can name a variable anything as long as it obeys the following three rules:\n",
    "\n",
    "- It can be only one word.\n",
    "\n",
    "- It can use only letters, numbers, and the underscore (_) character.\n",
    "\n",
    "- It can’t begin with a number.\n",
    "\n",
    "|   Valid variable names    |   Invalid variable names                                 |\n",
    "|---------------------------|----------------------------------------------------------|\n",
    "| `firstname`                 | `first-name` (hyphens are not allowed)              |\n",
    "| `firstName`          | `first name` (spaces are not allowed)               |\n",
    "| `first_name`         | `1name` (can’t begin with a number)                   |\n",
    "| `_firstname`                   | `1` (can’t begin with a number)                         |\n",
    "| `FIRSTNAME`                    | `first_@ame` (special characters like @ are not allowed)  |\n",
    "| `first1`                | `'first'` (special characters like ' are not allowed)    |\n",
    "\n",
    "\n",
    "\n",
    "Another important thing to note, variable names are case-sensitive, meaning that `var`, `VAR`, `Var`, and `vAr` are four different variables. It is a Python convention to start your variables with a lowercase letter.\n",
    "\n",
    "A good variable name describes the data it contains. Imagine that you moved to a new house and labeled all of your moving boxes as `stuff`. You’d never find anything! The variable names `var`, `balls`, and `pencils` are used as generic names for the examples, but in your programs, a descriptive name will help make your code more readable."
   ]
  },
  {
   "cell_type": "markdown",
   "metadata": {
    "id": "6ohj1sRdceoB"
   },
   "source": [
    "## Your first program\n",
    "\n",
    "Lets write our first program. This is a pretty simple program. It will say `hello` and then ask the user to enter his/her name & age. \n",
    "\n",
    "You should write the following code in your jupyter notebook and try running it. \n",
    "```{note} \n",
    "Don't worry a lot about understanding the complete code. We will be discussing it in detail.\n",
    "\n",
    "```"
   ]
  },
  {
   "cell_type": "code",
   "execution_count": 32,
   "metadata": {
    "colab": {
     "base_uri": "https://localhost:8080/"
    },
    "id": "VZbNQPmebYbM",
    "outputId": "08f7896b-7172-49f3-90fd-9ba14d252fd8"
   },
   "outputs": [
    {
     "name": "stdout",
     "output_type": "stream",
     "text": [
      "Hello world!\n",
      "What is your name?\n",
      "aiadventures\n",
      "It is good to meet you, aiadventures\n",
      "The length of your name is:\n",
      "12\n",
      "What is your age?\n",
      "5\n",
      "You will be 6 in a year.\n"
     ]
    }
   ],
   "source": [
    "# This program says hello and asks for my name.\n",
    "\n",
    "print('Hello world!')\n",
    "print('What is your name?')    # ask for their name\n",
    "myName = input()\n",
    "print('It is good to meet you, ' + myName)\n",
    "print('The length of your name is:')\n",
    "print(len(myName))\n",
    "print('What is your age?')    # ask for their age\n",
    "myAge = input()\n",
    "print('You will be ' + str(int(myAge) + 1) + ' in a year.')"
   ]
  },
  {
   "cell_type": "markdown",
   "metadata": {
    "id": "JoXK-d-lc78B"
   },
   "source": [
    "We hope, you have tried running the code. Let’s take a quick look at what each line of code does.\n",
    "\n",
    "### Comments\n",
    "\n",
    "The following line is called a **comment**.\n",
    "```python\n",
    "# This program says hello and asks for my name.\n",
    "```\n",
    "Python ignores comments, and you can use them to write notes or remind yourself what the code is trying to do. Any text for the rest of the line following a hash mark (#) is part of a comment. This means, for example, that you can have *stand-alone comments* like the one just shown, as well as *inline comments* that follow a statement. For example:\n",
    "\n",
    "```{code-block} python\n",
    "\n",
    "print('What is your name?')    # ask for their name\n",
    "```\n",
    "\n",
    "Sometimes, programmers will put a \"#\" in front of a line of code to temporarily remove it while testing a program. This is called **commenting out code**, and it can be useful when you’re trying to figure out why a program doesn’t work. You can remove the \"#\" later when you are ready to put the line back in.\n",
    "\n",
    "\n",
    "### `print()` function\n",
    "\n",
    "The `print()` function displays the string value inside the parentheses on the screen.\n",
    "\n",
    "\n",
    "```{code-block} python\n",
    "\n",
    "print('Hello world!')\n",
    "\n",
    "print('What is your name?') # ask for their name\n",
    "\n",
    "```\n",
    "        \n",
    "The line `print('Hello world!')` means “Print out the text in the string 'Hello world!'.” When Python executes this line, you say that Python is calling the `print()` function and the string value is being passed to the function. A value that is passed to a function call is an **argument**. Notice that the quotes are not printed to the screen. They just mark where the string begins and ends; they are not part of the string value.\n",
    "\n",
    "```{note} \n",
    "\n",
    "You can also use this function to put a blank line on the screen; just call `print()` with nothing in between the parentheses.\n",
    "\n",
    "```\n",
    "\n",
    "\n",
    "### `input()` function\n",
    "\n",
    "The `input()` function waits for the user to type some text on the keyboard and press <kbd>ENTER</kbd>.\n",
    "\n",
    "```{code-block} python\n",
    "\n",
    "myName = input()\n",
    "```\n",
    "This function call evaluates to a string equal to the user’s text, and the previous line of code assigns the `myName` variable to this string value.\n",
    "\n",
    "You can think of the `input()` function call as an expression that evaluates to whatever string the user typed in. If the user entered 'aiadventures', then the expression would evaluate to `myName = 'aiadventures'`.\n",
    "\n",
    "\n",
    "\n",
    "### Printing the user’s name\n",
    "\n",
    "The following call to `print()` actually contains the expression `'It is good to meet you, ' + myName` between the parentheses.\n",
    "```{code-block} python\n",
    "print('It is good to meet you, ' + myName)\n",
    "```    \n",
    "    \n",
    "Remember that expressions can always evaluate to a single value. If 'aiadventures' is the value stored in `myName` on the previous line, then this expression evaluates to `'It is good to meet you, aiadventures'`. This single string value is then passed to `print()`, which prints it on the screen.\n",
    "\n",
    "\n",
    "### `len()` function\n",
    "\n",
    "You can pass the `len()` function a string value (or a variable containing a string), and the function evaluates to the integer value of the number of characters in that string.\n",
    "\n",
    "```{code-block} python\n",
    "print('The length of your name is:')\n",
    "print(len(myName))\n",
    "```"
   ]
  },
  {
   "cell_type": "code",
   "execution_count": 33,
   "metadata": {
    "colab": {
     "base_uri": "https://localhost:8080/"
    },
    "id": "7i4kRdiYcnUW",
    "outputId": "ad9fa9d4-94cb-49ba-865e-eaa5ede059d9"
   },
   "outputs": [
    {
     "data": {
      "text/plain": [
       "5"
      ]
     },
     "execution_count": 33,
     "metadata": {},
     "output_type": "execute_result"
    }
   ],
   "source": [
    "len('hello')"
   ]
  },
  {
   "cell_type": "code",
   "execution_count": 34,
   "metadata": {
    "colab": {
     "base_uri": "https://localhost:8080/"
    },
    "id": "SYew21rldexU",
    "outputId": "eb0d40ce-df30-4c56-c7a9-9a27aef43bb3"
   },
   "outputs": [
    {
     "data": {
      "text/plain": [
       "25"
      ]
     },
     "execution_count": 34,
     "metadata": {},
     "output_type": "execute_result"
    }
   ],
   "source": [
    "len('I am having a great time.')"
   ]
  },
  {
   "cell_type": "code",
   "execution_count": 35,
   "metadata": {
    "colab": {
     "base_uri": "https://localhost:8080/"
    },
    "id": "hQjKSoaRdgDc",
    "outputId": "f65b8b74-0cba-4194-ea9f-f9b1756673cf"
   },
   "outputs": [
    {
     "data": {
      "text/plain": [
       "0"
      ]
     },
     "execution_count": 35,
     "metadata": {},
     "output_type": "execute_result"
    }
   ],
   "source": [
    "len('')"
   ]
  },
  {
   "cell_type": "markdown",
   "metadata": {
    "id": "EQ51giMhdjFF"
   },
   "source": [
    "Just like those examples, `len(myName)` evaluates to an integer. It is then passed to `print()` to be displayed on the screen. Notice that `print()` allows you to pass it either integer values or string values. But notice the error that shows up when you type the following into the cell:"
   ]
  },
  {
   "cell_type": "code",
   "execution_count": 36,
   "metadata": {
    "colab": {
     "base_uri": "https://localhost:8080/",
     "height": 165
    },
    "id": "cYqZMj3udhL9",
    "outputId": "852668fb-e828-4ea3-bd49-f9881a0e0a79"
   },
   "outputs": [
    {
     "ename": "TypeError",
     "evalue": "ignored",
     "output_type": "error",
     "traceback": [
      "\u001b[0;31m---------------------------------------------------------------------------\u001b[0m",
      "\u001b[0;31mTypeError\u001b[0m                                 Traceback (most recent call last)",
      "\u001b[0;32m<ipython-input-36-1b4f9ed4a6a3>\u001b[0m in \u001b[0;36m<module>\u001b[0;34m()\u001b[0m\n\u001b[0;32m----> 1\u001b[0;31m \u001b[0mprint\u001b[0m\u001b[0;34m(\u001b[0m\u001b[0;34m'I am '\u001b[0m \u001b[0;34m+\u001b[0m \u001b[0;36m24\u001b[0m \u001b[0;34m+\u001b[0m \u001b[0;34m' years old.'\u001b[0m\u001b[0;34m)\u001b[0m\u001b[0;34m\u001b[0m\u001b[0;34m\u001b[0m\u001b[0m\n\u001b[0m",
      "\u001b[0;31mTypeError\u001b[0m: can only concatenate str (not \"int\") to str"
     ]
    }
   ],
   "source": [
    "print('I am ' + 24 + ' years old.')"
   ]
  },
  {
   "cell_type": "markdown",
   "metadata": {
    "id": "4vnMSqu2doOc"
   },
   "source": [
    "The `print()` function isn't causing that error,  rather it’s the expression you tried to pass to `print()`. You get the same error message if you type the expression into the cell on its own."
   ]
  },
  {
   "cell_type": "code",
   "execution_count": 37,
   "metadata": {
    "colab": {
     "base_uri": "https://localhost:8080/",
     "height": 165
    },
    "id": "VO2mSwgpdn84",
    "outputId": "fd900408-4409-43b8-f2a9-bd65112bcc57"
   },
   "outputs": [
    {
     "ename": "TypeError",
     "evalue": "ignored",
     "output_type": "error",
     "traceback": [
      "\u001b[0;31m---------------------------------------------------------------------------\u001b[0m",
      "\u001b[0;31mTypeError\u001b[0m                                 Traceback (most recent call last)",
      "\u001b[0;32m<ipython-input-37-612b7dce6d2c>\u001b[0m in \u001b[0;36m<module>\u001b[0;34m()\u001b[0m\n\u001b[0;32m----> 1\u001b[0;31m \u001b[0;34m'I am '\u001b[0m \u001b[0;34m+\u001b[0m \u001b[0;36m24\u001b[0m \u001b[0;34m+\u001b[0m \u001b[0;34m' years old.'\u001b[0m\u001b[0;34m\u001b[0m\u001b[0;34m\u001b[0m\u001b[0m\n\u001b[0m",
      "\u001b[0;31mTypeError\u001b[0m: can only concatenate str (not \"int\") to str"
     ]
    }
   ],
   "source": [
    "'I am ' + 24 + ' years old.'"
   ]
  },
  {
   "cell_type": "markdown",
   "metadata": {
    "id": "JCOasGBhdyQP"
   },
   "source": [
    "Python gives an error because you can use the `+` operator only to add two integers together or concatenate two strings. You can’t add an integer to a string because this is ungrammatical in Python. You can fix this by using a string version of the integer instead, as explained in the next section."
   ]
  },
  {
   "cell_type": "markdown",
   "metadata": {
    "id": "7sMQixwWd0M5"
   },
   "source": [
    "### `str()` function\n",
    "\n",
    "If you want to concatenate an integer such as `24` with a string to pass to `print()`, you’ll need to get the value `'24'`, which is the string form of `24`. The `str()` function can be passed an integer value and will evaluate to a string value version of it, as follows:"
   ]
  },
  {
   "cell_type": "code",
   "execution_count": 38,
   "metadata": {
    "colab": {
     "base_uri": "https://localhost:8080/",
     "height": 35
    },
    "id": "sUfThJc2dlwu",
    "outputId": "4569bb8f-19cc-40e1-87f5-329d13b47af6"
   },
   "outputs": [
    {
     "data": {
      "application/vnd.google.colaboratory.intrinsic+json": {
       "type": "string"
      },
      "text/plain": [
       "'24'"
      ]
     },
     "execution_count": 38,
     "metadata": {},
     "output_type": "execute_result"
    }
   ],
   "source": [
    "str(24)"
   ]
  },
  {
   "cell_type": "code",
   "execution_count": 39,
   "metadata": {
    "colab": {
     "base_uri": "https://localhost:8080/"
    },
    "id": "2nBD-xj5d9q6",
    "outputId": "306ea3ab-7a1e-4a49-a877-85fea66d09dd"
   },
   "outputs": [
    {
     "name": "stdout",
     "output_type": "stream",
     "text": [
      "I am 24 years old.\n"
     ]
    }
   ],
   "source": [
    "print('I am ' + str(24) + ' years old.')"
   ]
  },
  {
   "cell_type": "markdown",
   "metadata": {
    "id": "MFgX24YEeETQ"
   },
   "source": [
    "Because `str(24)` evaluates to '24', the expression `'I am ' + str(24) + ' years old.'` evaluates to `'I am ' + '24' + ' years old.'`, which in turn evaluates to `'I am 24 years old.'`. This is the value that is passed to the `print()` function.\n",
    "\n",
    "The `str()` function is handy when you have an integer or float that you want to concatenate to a string.\n",
    "\n",
    "\n",
    "```{note}\n",
    "The `input()` function always returns a string, even if the user enters a number.\n",
    "```\n",
    "\n",
    "Enter `user_value = input()` into the cell and enter 101 when it waits for your text."
   ]
  },
  {
   "cell_type": "code",
   "execution_count": 40,
   "metadata": {
    "colab": {
     "base_uri": "https://localhost:8080/"
    },
    "id": "6binaLrvd-yz",
    "outputId": "bec36f41-bdaa-4322-923d-26fb358bd7e1"
   },
   "outputs": [
    {
     "name": "stdout",
     "output_type": "stream",
     "text": [
      "101\n"
     ]
    }
   ],
   "source": [
    "user_value = input()\n"
   ]
  },
  {
   "cell_type": "code",
   "execution_count": 41,
   "metadata": {
    "colab": {
     "base_uri": "https://localhost:8080/",
     "height": 35
    },
    "id": "3pCmK_e7eKzB",
    "outputId": "277c505f-432c-4980-9d24-395622a7d04e"
   },
   "outputs": [
    {
     "data": {
      "application/vnd.google.colaboratory.intrinsic+json": {
       "type": "string"
      },
      "text/plain": [
       "'101'"
      ]
     },
     "execution_count": 41,
     "metadata": {},
     "output_type": "execute_result"
    }
   ],
   "source": [
    "user_value"
   ]
  },
  {
   "cell_type": "markdown",
   "metadata": {
    "id": "FUGAHTdIeOrt"
   },
   "source": [
    "### `int()` function\n",
    "\n",
    "The value stored inside `user_value` isn’t the integer `101` but the string `'101'`. If you want to do math using the value in `user_value`, use the `int()` function to get the integer form of `user_value` and then store this as the new value in `user_value`."
   ]
  },
  {
   "cell_type": "code",
   "execution_count": 42,
   "metadata": {
    "colab": {
     "base_uri": "https://localhost:8080/"
    },
    "id": "lkyCBG-keMsU",
    "outputId": "bd29caea-2e7f-47c6-b22b-07c46b0ab758"
   },
   "outputs": [
    {
     "data": {
      "text/plain": [
       "101"
      ]
     },
     "execution_count": 42,
     "metadata": {},
     "output_type": "execute_result"
    }
   ],
   "source": [
    "user_value = int(user_value)\n",
    "user_value"
   ]
  },
  {
   "cell_type": "markdown",
   "metadata": {
    "id": "DhyHdm8BeS0Y"
   },
   "source": [
    "Now you should be able to treat the `user_value` variable as an integer instead of a string."
   ]
  },
  {
   "cell_type": "code",
   "execution_count": 43,
   "metadata": {
    "colab": {
     "base_uri": "https://localhost:8080/"
    },
    "id": "7ehZ9d6GeQ4G",
    "outputId": "1a06a491-ab55-4e63-8ee1-3f805a8108b4"
   },
   "outputs": [
    {
     "data": {
      "text/plain": [
       "202.0"
      ]
     },
     "execution_count": 43,
     "metadata": {},
     "output_type": "execute_result"
    }
   ],
   "source": [
    "user_value *10/5"
   ]
  },
  {
   "cell_type": "markdown",
   "metadata": {
    "id": "-3HSjvALeWV9"
   },
   "source": [
    "```{note} \n",
    "If you pass a value to `int()` that it cannot evaluate as an integer, Python will display an error message.\n",
    "```"
   ]
  },
  {
   "cell_type": "code",
   "execution_count": 44,
   "metadata": {
    "colab": {
     "base_uri": "https://localhost:8080/",
     "height": 165
    },
    "id": "_JCKvxkieUln",
    "outputId": "c93710b3-0c1e-4b1d-ace2-f7f09641a3a9"
   },
   "outputs": [
    {
     "ename": "ValueError",
     "evalue": "ignored",
     "output_type": "error",
     "traceback": [
      "\u001b[0;31m---------------------------------------------------------------------------\u001b[0m",
      "\u001b[0;31mValueError\u001b[0m                                Traceback (most recent call last)",
      "\u001b[0;32m<ipython-input-44-7e09e10be494>\u001b[0m in \u001b[0;36m<module>\u001b[0;34m()\u001b[0m\n\u001b[0;32m----> 1\u001b[0;31m \u001b[0mint\u001b[0m\u001b[0;34m(\u001b[0m\u001b[0;34m'99.99'\u001b[0m\u001b[0;34m)\u001b[0m\u001b[0;34m\u001b[0m\u001b[0;34m\u001b[0m\u001b[0m\n\u001b[0m",
      "\u001b[0;31mValueError\u001b[0m: invalid literal for int() with base 10: '99.99'"
     ]
    }
   ],
   "source": [
    "int('99.99')"
   ]
  },
  {
   "cell_type": "code",
   "execution_count": 45,
   "metadata": {
    "colab": {
     "base_uri": "https://localhost:8080/",
     "height": 165
    },
    "id": "ms4uTIeMeZon",
    "outputId": "eac27a07-37e7-46d2-e571-7c89ccd2f1f4"
   },
   "outputs": [
    {
     "ename": "ValueError",
     "evalue": "ignored",
     "output_type": "error",
     "traceback": [
      "\u001b[0;31m---------------------------------------------------------------------------\u001b[0m",
      "\u001b[0;31mValueError\u001b[0m                                Traceback (most recent call last)",
      "\u001b[0;32m<ipython-input-45-bcdccb17a8a6>\u001b[0m in \u001b[0;36m<module>\u001b[0;34m()\u001b[0m\n\u001b[0;32m----> 1\u001b[0;31m \u001b[0mint\u001b[0m\u001b[0;34m(\u001b[0m\u001b[0;34m'twelve'\u001b[0m\u001b[0;34m)\u001b[0m\u001b[0;34m\u001b[0m\u001b[0;34m\u001b[0m\u001b[0m\n\u001b[0m",
      "\u001b[0;31mValueError\u001b[0m: invalid literal for int() with base 10: 'twelve'"
     ]
    }
   ],
   "source": [
    "int('twelve')"
   ]
  },
  {
   "cell_type": "markdown",
   "metadata": {
    "id": "yYS-TKa2ec-h"
   },
   "source": [
    "### `float()` function\n",
    "\n",
    "Float values are those which contains decimal points. Let's take the another example of `my_value` containing string`'84'` and you want it in `float` type, then use `float()` to get in floating point number and store in another variable."
   ]
  },
  {
   "cell_type": "code",
   "execution_count": 46,
   "metadata": {
    "colab": {
     "base_uri": "https://localhost:8080/"
    },
    "id": "1P7Z0db2eb1a",
    "outputId": "e2d9c2f4-a2b4-4557-d3ab-23bcd7237cf8"
   },
   "outputs": [
    {
     "name": "stdout",
     "output_type": "stream",
     "text": [
      "84\n"
     ]
    }
   ],
   "source": [
    "my_value = input()"
   ]
  },
  {
   "cell_type": "code",
   "execution_count": 47,
   "metadata": {
    "colab": {
     "base_uri": "https://localhost:8080/"
    },
    "id": "heFt8JO8ee69",
    "outputId": "16063389-aee1-43ca-ef88-f1663545d78d"
   },
   "outputs": [
    {
     "data": {
      "text/plain": [
       "84.0"
      ]
     },
     "execution_count": 47,
     "metadata": {},
     "output_type": "execute_result"
    }
   ],
   "source": [
    "my_value = float(my_value)\n",
    "my_value"
   ]
  },
  {
   "cell_type": "markdown",
   "metadata": {
    "id": "R1sh50jlejFP"
   },
   "source": [
    "In your program, you used the `int()` and `str()` functions in the last three lines to get a value of the appropriate data type for the code.\n",
    "\n",
    "```{code-block} python\n",
    "print('What is your age?') # ask for their age\n",
    "myAge = input()\n",
    "print('You will be ' + str(int(myAge) + 1) + ' in a year.')\n",
    "```\n",
    "\n",
    "The `myAge` variable contains the value returned from `input()`. Because the `input()` function always returns a string (even if the user typed in a number), you can use the `int(myAge)` code to return an integer value of the string in `myAge`. This integer value is then added to 1 in the expression `int(myAge) + 1`.\n",
    "\n",
    "The result of this addition is passed to the `str()` function: `str(int(myAge) + 1)`. The string value returned is then concatenated with the strings `'You will be '` and `' in a year.'` to evaluate to one large string value. This large string is finally passed to `print()` to be displayed on the screen.\n",
    "\n",
    "Let’s say the user enters the string `'4'` for `myAge`. The string `'4'` is converted to an integer, so you can add one to it. The result is 5. The `str()` function converts the result back to a string, so you can concatenate it with the second string, `'in a year.'`, to create the final message. These evaluation steps would look something like this:\n",
    "\n",
    "![](../images/000069.png)"
   ]
  },
  {
   "cell_type": "markdown",
   "metadata": {
    "id": "jegcQgg0elPn"
   },
   "source": [
    "## Text and Number Equivalence\n",
    "\n",
    "Although the string value of a number is considered a completely different value from the integer or floating-point version, an integer can be equal to a floating point."
   ]
  },
  {
   "cell_type": "code",
   "execution_count": 48,
   "metadata": {
    "colab": {
     "base_uri": "https://localhost:8080/"
    },
    "id": "GFmqWQZMehBk",
    "outputId": "ecdc0374-a18b-43de-a835-eb6e9549dddb"
   },
   "outputs": [
    {
     "data": {
      "text/plain": [
       "False"
      ]
     },
     "execution_count": 48,
     "metadata": {},
     "output_type": "execute_result"
    }
   ],
   "source": [
    "42 == '42'"
   ]
  },
  {
   "cell_type": "code",
   "execution_count": 49,
   "metadata": {
    "colab": {
     "base_uri": "https://localhost:8080/"
    },
    "id": "Lbk35R7BenBa",
    "outputId": "f1317ccd-e490-445b-b56a-4e6976c133af"
   },
   "outputs": [
    {
     "data": {
      "text/plain": [
       "True"
      ]
     },
     "execution_count": 49,
     "metadata": {},
     "output_type": "execute_result"
    }
   ],
   "source": [
    "42 == 42.0"
   ]
  },
  {
   "cell_type": "code",
   "execution_count": 50,
   "metadata": {
    "colab": {
     "base_uri": "https://localhost:8080/"
    },
    "id": "N3j5ApWdeoLw",
    "outputId": "8ed4b788-8dc8-4b71-beea-b218d7143d97"
   },
   "outputs": [
    {
     "data": {
      "text/plain": [
       "True"
      ]
     },
     "execution_count": 50,
     "metadata": {},
     "output_type": "execute_result"
    }
   ],
   "source": [
    "42.0 == 0042.000"
   ]
  },
  {
   "cell_type": "markdown",
   "metadata": {
    "id": "Wgd6ySSZerzt"
   },
   "source": [
    "Python makes this distinction because strings are text, while integers and floats are both numbers.\n",
    "\n",
    "That's it in this chapter. You have learnt Python Basics, Data types & it's operations. Let's move on to conclusion it will test your knowledge of this chapter."
   ]
  },
  {
   "cell_type": "markdown",
   "metadata": {
    "id": "sDikP-MXeufJ"
   },
   "source": [
    "## Conclusion\n",
    "\n",
    "The Questionaire is given in order to revise all the concepts or topics you have learnt in this chapter.\n",
    "\n",
    "### Questionaire\n",
    "\n",
    "1. What is string concatenation and replication? Mention the operators.\n",
    "2. Is `my value = 10` a valid syntax?\n",
    "3. Enter `spam = input()` into the cell and enter **101** as input, what is data type of `spam`?\n",
    "4. How to override the precedence of operators? \n",
    "\n",
    "### Exercise\n",
    "\n",
    "Try to solve the questions given in this [link](https://github.com/PranavUikey/Python_Extra/blob/main/Extra_questions/00_Expressions.ipynb). And if you need any help understanding the questions feel free to seek for the mentor.\n",
    "\n",
    "\n",
    "### Further Reading\n",
    "\n",
    "Search online for the Python documentation for the `len()` & `round()` function. It will be on a web page titled “Built-in Functions”. Skim the list of other functions Python has. Read what each of the function does, and experiment with it in your Jupyter Notebook."
   ]
  }
 ],
 "metadata": {
  "colab": {
   "collapsed_sections": [
    "lxM-w2ePDGTR",
    "Bqyj7TaCEZad",
    "m2wcB-d7EfQT",
    "huI3ZJxqEjv7",
    "ZTf_YvVHErTI"
   ],
   "name": "00_Expressions.ipynb",
   "provenance": []
  },
  "kernelspec": {
   "display_name": "Python 3",
   "name": "python3"
  },
  "language_info": {
   "name": "python"
  }
 },
 "nbformat": 4,
 "nbformat_minor": 0
}